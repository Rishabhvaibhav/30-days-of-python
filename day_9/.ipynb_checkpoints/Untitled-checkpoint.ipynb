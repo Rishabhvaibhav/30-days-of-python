{
 "cells": [
  {
   "cell_type": "code",
   "execution_count": 1,
   "id": "744099a9-7dec-484d-b09d-a5d3409ef984",
   "metadata": {},
   "outputs": [
    {
     "name": "stdin",
     "output_type": "stream",
     "text": [
      "Enter the age : 56\n"
     ]
    },
    {
     "name": "stdout",
     "output_type": "stream",
     "text": [
      "You are old enough to drive \n"
     ]
    }
   ],
   "source": [
    "# Exercises: Level 1\n",
    "# Get user input using input(“Enter your age: ”). \n",
    "# If user is 18 or older, give feedback: \n",
    "# You are old enough to drive. If below 18 give feedback to wait for the missing amount of years. Output:\n",
    "# Enter your age: 30\n",
    "# You are old enough to learn to drive.\n",
    "# Output:\n",
    "# Enter your age: 15\n",
    "# You need 3 more years to learn to drive.\n",
    "\n",
    " \n",
    "age = int(input('Enter the age :'))\n",
    "if age >= 18 :\n",
    "    print(\"You are old enough to drive \")\n",
    "else :\n",
    "    print(\"You are old enough to learn to drive\")\n",
    "\n",
    " "
   ]
  },
  {
   "cell_type": "code",
   "execution_count": 3,
   "id": "ad3ad505-742e-4ba1-b1c3-f5d04126368e",
   "metadata": {},
   "outputs": [
    {
     "name": "stdin",
     "output_type": "stream",
     "text": [
      "Enter you age  21\n"
     ]
    },
    {
     "name": "stdout",
     "output_type": "stream",
     "text": [
      "Both age is same \n"
     ]
    }
   ],
   "source": [
    "\n",
    "# Compare the values of my_age and your_age using if … else. Who is older (me or you)? Use input(“Enter your age: ”) to get the age as input. \n",
    "# You can use a nested condition to print 'year' for 1 year difference in age, 'years' for bigger differences, and a custom text if my_age = your_age. \n",
    "# \n",
    "# Output:\n",
    "# Enter your age: 30\n",
    "# You are 5 years older than me.\n",
    "\n",
    "my_age = 21\n",
    "your_age =int(input('Enter you age '))\n",
    "\n",
    "if my_age == your_age:\n",
    "    print('Both age is same ')\n",
    "elif my_age < your_age:\n",
    "    age_gap = (your_age - my_age)\n",
    "    print(f\"you are {age_gap} year older than me \")\n",
    "elif my_age > your_age:\n",
    "    age_gap = (my_age - your_age)\n",
    "    print(f\"you are {age_gap} year elder than you  \")\n",
    "else : \n",
    "    print('Invalid input ')\n",
    "\n",
    " "
   ]
  },
  {
   "cell_type": "code",
   "execution_count": 4,
   "id": "2e384c21-09ff-449b-8080-aa9a6fd92e13",
   "metadata": {},
   "outputs": [
    {
     "name": "stdin",
     "output_type": "stream",
     "text": [
      "Enter the first number :  45\n",
      "Enter the first number :  65\n"
     ]
    },
    {
     "name": "stdout",
     "output_type": "stream",
     "text": [
      "65 is greater than 45\n"
     ]
    }
   ],
   "source": [
    "\n",
    "# Get two numbers from the user using input prompt. \n",
    "# If a is greater than b return a is greater than b, \n",
    "# if a is less b return a is smaller than b, else a is equal to b. Output:\n",
    "# Enter number one: 4\n",
    "# Enter number two: 3\n",
    "# 4 is greater than 3\n",
    "\n",
    " \n",
    "a = int(input('Enter the first number : '))\n",
    "b = int(input('Enter the first number : '))\n",
    "\n",
    "if a > b :\n",
    "    print(f\"{a} is greater than {b}\")\n",
    "elif a < b :\n",
    "    print(f\"{b} is greater than {a}\")\n",
    "else:\n",
    "    print(\"Both are equal\")\n",
    "\n",
    " \n"
   ]
  },
  {
   "cell_type": "code",
   "execution_count": 6,
   "id": "744135dd-4fcc-4c04-8711-3099a320393b",
   "metadata": {},
   "outputs": [
    {
     "name": "stdin",
     "output_type": "stream",
     "text": [
      "Enter the marks you get :  89\n"
     ]
    },
    {
     "name": "stdout",
     "output_type": "stream",
     "text": [
      "B\n"
     ]
    }
   ],
   "source": [
    "\n",
    "# ### Exercises: Level 2\n",
    "\n",
    "# Write a code which gives grade to students according to theirs scores:\n",
    "\n",
    "# 80-100, A\n",
    "# 70-89, B\n",
    "# 60-69, C\n",
    "# 50-59, D\n",
    "# 0-49, F\n",
    "\n",
    "score = (int(input(\"Enter the marks you get : \")))\n",
    "\n",
    "if score <= 49:\n",
    "    print(\"F\")\n",
    "elif score <= 59:\n",
    "    print('D')\n",
    "elif score <= 69:\n",
    "    print('C')\n",
    "elif score <= 89:\n",
    "    print('B')\n",
    "elif score <= 100:\n",
    "    print('A')\n",
    "else : \n",
    "    TypeError\n",
    "\n"
   ]
  },
  {
   "cell_type": "code",
   "execution_count": 13,
   "id": "81c53bf9-5990-49d5-8f35-e9c7657d2392",
   "metadata": {},
   "outputs": [
    {
     "name": "stdin",
     "output_type": "stream",
     "text": [
      "Enter the season :  february\n"
     ]
    },
    {
     "name": "stdout",
     "output_type": "stream",
     "text": [
      "the Season is Winter \n"
     ]
    }
   ],
   "source": [
    "\n",
    "# Check if the season is Autumn, Winter, Spring or Summer.  \n",
    "# December, January or February, the season is Winter. \n",
    "# March, April or May,  the season is Spring \n",
    "# June, July or August, the season is Summer\n",
    "# If the user input is: September, October or November, the season is Autumn.\n",
    "\n",
    " \n",
    "season = input(\"Enter the season : \")\n",
    "season = season.upper()\n",
    "\n",
    "if season in (\"DECEMBER\" , \"JANUARY\" , \"FEBRUARY\"):\n",
    "    print(\"the Season is Winter \")\n",
    "elif season in (\"MARCH\" , \"APRIL\" , \"MAY\"):\n",
    "    print(\"the Season is spring \")\n",
    "elif season in (\"JUNE\" , \"JULY\" , \"AUGUST\"):\n",
    "    print(\"the Season is summer \")\n",
    "elif season in (\"SEPTEMBER\" , \"OCTOBER\" , \"NOVEMBER\") :\n",
    "    print(\"the Season is Autumn \")\n",
    "else:\n",
    "    print(\"Invalid input : \")\n",
    "\n",
    " \n"
   ]
  },
  {
   "cell_type": "code",
   "execution_count": null,
   "id": "3f9bb30f-e893-48e9-9668-58a556f2b4e4",
   "metadata": {},
   "outputs": [],
   "source": [
    "\n",
    "\n",
    "\n",
    "\n",
    "\n",
    "# The following list contains some fruits:\n",
    "\n",
    "# fruits = ['banana', 'orange', 'mango', 'lemon']\n",
    "# If a fruit doesn't exist in the list add the fruit to the list and print the modified list. \n",
    "# If the fruit exists print('That fruit already exist in the list')\n",
    " \n",
    "i = 0\n",
    "while True : \n",
    "    fruits = ['banana', 'orange', 'mango', 'lemon']\n",
    "    find = input(\"Enter food you find : \")\n",
    "    if find in fruits :\n",
    "            print(\"That fruit is already exist in the list \")\n",
    "    else:\n",
    "        fruits[-1] = find\n",
    "        print(\"your food is not exist, it added sucessfully   \")\n",
    "        i += 1\n",
    "        if i > 5:\n",
    "            break\n",
    " \n"
   ]
  },
  {
   "cell_type": "code",
   "execution_count": null,
   "id": "798103d0-d686-44b0-aa56-13fb3f873ecc",
   "metadata": {},
   "outputs": [],
   "source": [
    "\n",
    "# Exercises: Level 3\n",
    "# Here we have a person dictionary. Feel free to modify it!\n",
    "\n",
    "#         person={\n",
    "#     'first_name': 'Asabeneh',\n",
    "#     'last_name': 'Yetayeh',\n",
    "#     'age': 250,\n",
    "#     'country': 'Finland',\n",
    "#     'is_marred': True,\n",
    "#     'skills': ['JavaScript', 'React', 'Node', 'MongoDB', 'Python'],\n",
    "#     'address': {\n",
    "#         'street': 'Space street',\n",
    "#         'zipcode': '02210'\n",
    "#     }\n",
    "#     }\n",
    "#  * Check if the person dictionary has skills key, if so print out the middle skill in the skills list.\n",
    "#  * Check if the person dictionary has skills key, if so check if the person has 'Python' skill and print out the result.\n",
    "#  * If a person skills has only JavaScript and React, print('He is a front end developer'), if the person skills has Node, Python, MongoDB, print('He is a backend developer'), if the person skills has React, Node and MongoDB, Print('He is a fullstack developer'), else print('unknown title') - for more accurate results more conditions can be nested!\n",
    "#  * If the person is married and if he lives in Finland, print the information in the following format:"
   ]
  },
  {
   "cell_type": "code",
   "execution_count": null,
   "id": "38b596f5-b12b-40aa-ba20-e2716a83862d",
   "metadata": {},
   "outputs": [],
   "source": []
  }
 ],
 "metadata": {
  "kernelspec": {
   "display_name": "Python 3 (ipykernel)",
   "language": "python",
   "name": "python3"
  },
  "language_info": {
   "codemirror_mode": {
    "name": "ipython",
    "version": 3
   },
   "file_extension": ".py",
   "mimetype": "text/x-python",
   "name": "python",
   "nbconvert_exporter": "python",
   "pygments_lexer": "ipython3",
   "version": "3.11.4"
  }
 },
 "nbformat": 4,
 "nbformat_minor": 5
}
