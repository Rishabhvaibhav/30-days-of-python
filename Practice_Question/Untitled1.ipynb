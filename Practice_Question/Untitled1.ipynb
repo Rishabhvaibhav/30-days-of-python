{
 "cells": [
  {
   "cell_type": "code",
   "execution_count": null,
   "id": "084e4639-0e85-4031-a1cb-62915f2daf68",
   "metadata": {},
   "outputs": [],
   "source": [
    "import pandas as pd\n",
    "\n",
    "# Read the Excel file\n",
    "df = pd.read_excel('your_file.xlsx')\n",
    "\n",
    "# Define a dictionary to map the old statuses to the new ones\n",
    "status_mapping = {\n",
    "    'L1 Selected-Rejected by client': 'Client L1 reject',\n",
    "    'Profile rejected by client': 'ClientScreeningReject',\n",
    "    'L1 Scheduled': 'L1interviewFP',\n",
    "    'Client Select-drop out': 'ClientL1Reject',\n",
    "    'Position hold': 'L2Hold',\n",
    "    # Add more mappings as needed\n",
    "}\n",
    "\n",
    "# Apply the mapping to the 'Status' column\n",
    "df['Status'] = df['Status'].map(status_mapping)\n",
    "\n",
    "# Sort the DataFrame by the 'Status' column\n",
    "df.sort_values('Status', inplace=True)\n",
    "\n",
    "# Save the updated DataFrame to a new Excel file\n",
    "df.to_excel('updated_file.xlsx', index=False)\n"
   ]
  }
 ],
 "metadata": {
  "kernelspec": {
   "display_name": "Python 3 (ipykernel)",
   "language": "python",
   "name": "python3"
  },
  "language_info": {
   "codemirror_mode": {
    "name": "ipython",
    "version": 3
   },
   "file_extension": ".py",
   "mimetype": "text/x-python",
   "name": "python",
   "nbconvert_exporter": "python",
   "pygments_lexer": "ipython3",
   "version": "3.11.4"
  }
 },
 "nbformat": 4,
 "nbformat_minor": 5
}
