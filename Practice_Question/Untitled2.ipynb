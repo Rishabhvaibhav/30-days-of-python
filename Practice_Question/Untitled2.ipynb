{
 "cells": [
  {
   "cell_type": "code",
   "execution_count": 5,
   "id": "108afb2c-f6b9-4483-b85d-21827bf9a59a",
   "metadata": {},
   "outputs": [],
   "source": [
    "import pandas as pd\n",
    "\n",
    "previous_data = pd.read_csv('Previous-Data.csv')\n",
    "latest_data = pd.read_csv('Latest-Data.csv')\n"
   ]
  },
  {
   "cell_type": "code",
   "execution_count": 3,
   "id": "575a382f-471e-4dd2-9815-cf8c451e3774",
   "metadata": {},
   "outputs": [],
   "source": [
    "import pandas as pd\n",
    "\n",
    "\n",
    "# Merge the data based on the candidate name\n",
    "merged_data = pd.merge(previous_data, latest_data, on='Candidate Name', suffixes=('_previous', '_latest'))\n",
    "\n",
    "# Create a new column for the updated status\n",
    "merged_data['Updated Status'] = merged_data['Status_latest']\n",
    "\n",
    "# Map the old status to the new one\n",
    "status_mapping = {\n",
    "    'L2 Select': 'L2Select',\n",
    "    'L1 Selected-Rejected by client': 'Client L1 reject',\n",
    "    'HR Scheduled': 'HRScheduled',\n",
    "    'Profile rejected by client': 'Client Profile reject',\n",
    "    'L1 Scheduled': 'L1Scheduled',\n",
    "    'Client Select-drop out': 'Client Select-dropout',\n",
    "    'High Expectation': 'HighExpectation',\n",
    "    'Position hold': 'PositionHold',\n",
    "    'Duplicate': 'Duplicate',\n",
    "    'L1 Selected-HR Scheduled-Position lost': 'L1Selected-HR Scheduled-Position lost',\n",
    "    'Profile Rejected by client': 'Client Profile reject',\n",
    "    'Profile rejected by client-High ECTC': 'Client Profile reject-High ECTC',\n",
    "    'Joined': 'Joined',\n",
    "    'L1 Select-drop out': 'L1 Select-dropout',\n",
    "    'L1 Select-Profile reject by client': 'Client L1 reject-Profile reject',\n",
    "    'L2 Selected-rejected by client': 'Client L2 reject',\n",
    "    'screen rejected': 'Screen reject',\n",
    "    'L1 Select-Drop out': 'L1 Select-dropout',\n",
    "    'HR Select': 'HRSelect',\n",
    "    'L1 Select-High ECTC': 'L1 Select-High ECTC',\n",
    "    'Position closed': 'PositionClosed',\n",
    "    'L1 Reject': 'L1Reject',\n",
    "    'Profile reject by client': 'Client Profile reject',\n",
    "    'Reject(Face to face interview)': 'Face to face interview reject',\n",
    "    'L1 rejected': 'L1Reject',\n",
    "    'shared': 'Shared',\n",
    "    'HR done': 'HRDone',\n",
    "    'Hold': 'Hold',\n",
    "    'L1 select': 'L1Select',\n",
    "    'L3 Rejected': 'L3Reject',\n",
    "    'Position Closed': 'PositionClosed',\n",
    "    'HR Select-Drop out': 'HRSelect-Dropout',\n",
    "    'Profile Reject': 'ProfileReject',\n",
    "    'client Interview Reject': 'Client Interview reject',\n",
    "    'L2 Feedback Pending': 'L2FeedbackPending',\n",
    "    'Client Reject': 'ClientReject',\n",
    "    'Client round reject': 'Client round reject',\n",
    "    'Client Interview reject': 'Client Interview reject',\n",
    "    'L2 Select-Profile reject by client': 'Client L2 reject-Profile reject',\n",
    "    'Screen Reject-High ECTC': 'Screen reject-High ECTC',\n",
    "    'L1 Select-Position closed': 'L1 Select-PositionClosed',\n",
    "    'L1 Select': 'L1Select',\n",
    "    'Screen rejected': 'Screen reject',\n",
    "    'L1 Selected-less exp-Rejected-Joined another organization': 'L1Selected-less exp-Rejected-Joined another organization',\n",
    "    'L1 Selected': 'L1Selected',\n",
    "    'L1 Rejected': 'L1Reject',\n",
    "    'L2 Select-Client interview reject': 'Client L2 reject-Client interview reject',\n",
    "    'Position lost': 'PositionLost',\n",
    "    'Joined-Dublicate-Atish': 'Joined-Duplicate-Atish',\n",
    "    'L2 FP': 'L2FP',\n",
    "    'Offer Accepted': 'OfferAccepted',\n",
    "    'screenig': 'Screening',\n",
    "    'HR Selected-Rejected by client': 'Client HR reject',\n",
    "    'Shared': 'Shared',\n",
    "    'L1 Scheduled-Position closed': 'L1Scheduled-PositionClosed',\n",
    "    'client Rejected': 'ClientReject',\n",
    "    'HR Select-Position hold': 'HRSelect-PositionHold',\n",
    "    'Profile Select-got an offer-drop out': 'Profile Select-got an offer-dropout',\n",
    "    'L1 Select-Positon closed': 'L1Select-PositionClosed',\n",
    "    'L2 Reject': 'L2Reject',\n",
    "    'L1 rejected-Joined another organization': 'L1Reject-Joined another organization',\n",
    "    'L1 Selected-Profile rejected by client': 'Client L1 reject-Profile reject',\n",
    "    'L1 drop': 'L1Drop',\n",
    "    'Shared': 'Shared',\n",
    "    'L2 Rejected': 'L2Reject',\n",
    "    'L2 done': 'L2Done',\n",
    "    'HR Selected': 'HRSelected'\n",
    "}\n",
    "\n",
    "merged_data['Updated Status'] = merged_data['Updated Status'].map(status_mapping)\n",
    "\n",
    "# Save the updated data to a new file\n",
    "merged_data.to_csv('Updated-Data.csv', index=False)\n"
   ]
  },
  {
   "cell_type": "code",
   "execution_count": 7,
   "id": "5055b414-004d-4709-9097-ab618e988f23",
   "metadata": {},
   "outputs": [
    {
     "name": "stdout",
     "output_type": "stream",
     "text": [
      "Number of candidate names not present in both data sets: 48\n"
     ]
    }
   ],
   "source": [
    "import pandas as pd\n",
    "\n",
    "# Read the data from the Excel files\n",
    "previous_data = pd.read_csv('Previous-Data.csv')\n",
    "latest_data = pd.read_csv('Latest-Data.csv')\n",
    "\n",
    "# Get the unique candidate names from each data set\n",
    "previous_candidates = set(previous_data['Candidate Name'])\n",
    "latest_candidates = set(latest_data['Candidate Name'])\n",
    "\n",
    "# Find the candidate names that are not present in both data sets\n",
    "not_in_previous = latest_candidates - previous_candidates\n",
    "not_in_latest = previous_candidates - latest_candidates\n",
    "\n",
    "# Count the number of candidate names not present in both data sets\n",
    "num_not_in_both = len(not_in_previous) + len(not_in_latest)\n",
    "\n",
    "# Print the result\n",
    "print(\"Number of candidate names not present in both data sets:\", num_not_in_both)\n"
   ]
  },
  {
   "cell_type": "code",
   "execution_count": 11,
   "id": "37dbbbd8-ee43-4420-9152-7127553a0013",
   "metadata": {},
   "outputs": [
    {
     "name": "stdout",
     "output_type": "stream",
     "text": [
      "All Candidate Names:\n",
      "673                A.Hariharan\n",
      "753     ABHIJIT ASHOK WAGHMARE\n",
      "704         ABHIRAMI ANILKUMAR\n",
      "69             AISHWARYA PAWAR\n",
      "525               AJAY KUMAWAT\n",
      "                ...           \n",
      "550     Yogendra Singh Solanki\n",
      "372    Yogesh Bapusaheb Jadhav\n",
      "324              Yogesh mohite\n",
      "422            ZEESHAN ZAKARIA\n",
      "524                k.S Sushant\n",
      "Name: Candidate Name, Length: 823, dtype: object\n"
     ]
    }
   ],
   "source": [
    "import pandas as pd\n",
    "\n",
    "# Read the data from the Excel files\n",
    "previous_data = pd.read_csv('Previous-Data.csv')\n",
    "latest_data = pd.read_csv('Latest-Data.csv')\n",
    "\n",
    "# Get the candidate names from each data set\n",
    "previous_candidates = previous_data['Candidate Name']\n",
    "latest_candidates = latest_data['Candidate Name']\n",
    "\n",
    "# Concatenate the candidate names from both data sets\n",
    "all_candidates = pd.concat([previous_candidates, latest_candidates])\n",
    "\n",
    "# Remove duplicates and sort the candidate names\n",
    "all_candidates = all_candidates.drop_duplicates().sort_values()\n",
    "\n",
    "# Print all the candidate names\n",
    "print(\"All Candidate Names:\")\n",
    "print(all_candidates)\n"
   ]
  },
  {
   "cell_type": "code",
   "execution_count": 12,
   "id": "22aa6527-0330-4aef-90c8-c5657181c9d3",
   "metadata": {},
   "outputs": [
    {
     "name": "stdout",
     "output_type": "stream",
     "text": [
      "Number of candidate names not present in both data sets: 48\n",
      "Candidate names not present in both data sets:\n",
      "Not in Previous Data: {'Vikas Yadav', 'Lokanath', 'Dileep kumar', 'MAni Kumar Mainam', 'Sreenisha M', 'Raghunath Reddy Yeddula', 'Srikanth(no exp in automotive side)', 'Trisha Yadav', 'Mathan Kumar J', 'Manikandan', 'Gaurav Kumar', 'Atul kumar yadav', 'Richa', 'Amit Tayade', 'Sandhya', 'Amit Upadhyay', 'Abhijith Sreekumar', 'Maneesh Raj', 'PRASANNA KUMAR PANDRE', 'Dhanam P', 'SARAVANAN R', 'Dibya Ranjan Samal', 'Alok Mukiya', 'Jawaharbabu M', 'Candidate Name', 'Harish ravi chandran', 'TAMILARASAN M', 'HARSHIL KUMAR PARMAR', 'Jaivardhan', 'Vijayalaxmi V Jambagi', 'Ambuj Kumar', 'Suraj', 'Diptiranjan Pradhan', 'Rishabh Shukla', 'Ankit', 'Gautham R M', 'Deepak C', 'Dheeraj Dashora', 'Manisha Singh', 'Sachin Thonge', 'Amruta Pramod Nandanwar.', 'Shivam '}\n",
      "Not in Latest Data: {'Nagananda BP', 'Shivani K V', 'Srikanth', 'Akash Jain', 'Jawaharbau M', 'Harishravichandran'}\n"
     ]
    }
   ],
   "source": [
    "import pandas as pd\n",
    "\n",
    "# Read the data from the Excel files\n",
    "previous_data = pd.read_csv('Previous-Data.csv')\n",
    "latest_data = pd.read_csv('Latest-Data.csv')\n",
    "\n",
    "# Get the candidate names from each data set\n",
    "previous_candidates = set(previous_data['Candidate Name'])\n",
    "latest_candidates = set(latest_data['Candidate Name'])\n",
    "\n",
    "# Find the candidate names that are not present in both data sets\n",
    "not_in_previous = latest_candidates - previous_candidates\n",
    "not_in_latest = previous_candidates - latest_candidates\n",
    "\n",
    "# Count the number of candidate names not present in both data sets\n",
    "num_not_in_both = len(not_in_previous) + len(not_in_latest)\n",
    "\n",
    "# Print the result\n",
    "print(\"Number of candidate names not present in both data sets:\", num_not_in_both)\n",
    "\n",
    "# Print the candidate names not present in both data sets\n",
    "print(\"Candidate names not present in both data sets:\")\n",
    "print(\"Not in Previous Data:\", not_in_previous)\n",
    "print(\"Not in Latest Data:\", not_in_latest)\n"
   ]
  },
  {
   "cell_type": "code",
   "execution_count": 14,
   "id": "15946612-6411-4709-8d27-dbedb641aa66",
   "metadata": {},
   "outputs": [
    {
     "name": "stdout",
     "output_type": "stream",
     "text": [
      "Number of candidate names not present in both data sets: 48\n"
     ]
    }
   ],
   "source": [
    "import pandas as pd\n",
    "\n",
    "# Read the data from the Excel files\n",
    "previous_data = pd.read_csv('Previous-Data.csv')\n",
    "latest_data = pd.read_csv('Latest-Data.csv')\n",
    "\n",
    "# Get the candidate names from the specified column in each data set\n",
    "previous_candidates = set(previous_data['Candidate Name'])\n",
    "latest_candidates = set(latest_data['Candidate Name'])\n",
    "\n",
    "# Find the candidate names that are not present in both data sets\n",
    "not_in_previous = latest_candidates - previous_candidates\n",
    "not_in_latest = previous_candidates - latest_candidates\n",
    "\n",
    "# Count the number of candidate names not present in both data sets\n",
    "num_not_in_both = len(not_in_previous) + len(not_in_latest)\n",
    "\n",
    "# Print the result\n",
    "print(\"Number of candidate names not present in both data sets:\", num_not_in_both)\n"
   ]
  },
  {
   "cell_type": "code",
   "execution_count": 15,
   "id": "8599f5b5-f675-4a84-925e-1120c12b68ad",
   "metadata": {},
   "outputs": [
    {
     "ename": "KeyError",
     "evalue": "'Date'",
     "output_type": "error",
     "traceback": [
      "\u001b[1;31m---------------------------------------------------------------------------\u001b[0m",
      "\u001b[1;31mKeyError\u001b[0m                                  Traceback (most recent call last)",
      "File \u001b[1;32m~\\AppData\\Local\\Programs\\Python\\Python311\\Lib\\site-packages\\pandas\\core\\indexes\\base.py:3653\u001b[0m, in \u001b[0;36mIndex.get_loc\u001b[1;34m(self, key)\u001b[0m\n\u001b[0;32m   3652\u001b[0m \u001b[38;5;28;01mtry\u001b[39;00m:\n\u001b[1;32m-> 3653\u001b[0m     \u001b[38;5;28;01mreturn\u001b[39;00m \u001b[38;5;28;43mself\u001b[39;49m\u001b[38;5;241;43m.\u001b[39;49m\u001b[43m_engine\u001b[49m\u001b[38;5;241;43m.\u001b[39;49m\u001b[43mget_loc\u001b[49m\u001b[43m(\u001b[49m\u001b[43mcasted_key\u001b[49m\u001b[43m)\u001b[49m\n\u001b[0;32m   3654\u001b[0m \u001b[38;5;28;01mexcept\u001b[39;00m \u001b[38;5;167;01mKeyError\u001b[39;00m \u001b[38;5;28;01mas\u001b[39;00m err:\n",
      "File \u001b[1;32m~\\AppData\\Local\\Programs\\Python\\Python311\\Lib\\site-packages\\pandas\\_libs\\index.pyx:147\u001b[0m, in \u001b[0;36mpandas._libs.index.IndexEngine.get_loc\u001b[1;34m()\u001b[0m\n",
      "File \u001b[1;32m~\\AppData\\Local\\Programs\\Python\\Python311\\Lib\\site-packages\\pandas\\_libs\\index.pyx:176\u001b[0m, in \u001b[0;36mpandas._libs.index.IndexEngine.get_loc\u001b[1;34m()\u001b[0m\n",
      "File \u001b[1;32mpandas\\_libs\\hashtable_class_helper.pxi:7080\u001b[0m, in \u001b[0;36mpandas._libs.hashtable.PyObjectHashTable.get_item\u001b[1;34m()\u001b[0m\n",
      "File \u001b[1;32mpandas\\_libs\\hashtable_class_helper.pxi:7088\u001b[0m, in \u001b[0;36mpandas._libs.hashtable.PyObjectHashTable.get_item\u001b[1;34m()\u001b[0m\n",
      "\u001b[1;31mKeyError\u001b[0m: 'Date'",
      "\nThe above exception was the direct cause of the following exception:\n",
      "\u001b[1;31mKeyError\u001b[0m                                  Traceback (most recent call last)",
      "Cell \u001b[1;32mIn[15], line 7\u001b[0m\n\u001b[0;32m      4\u001b[0m previous_data \u001b[38;5;241m=\u001b[39m pd\u001b[38;5;241m.\u001b[39mread_csv(\u001b[38;5;124m'\u001b[39m\u001b[38;5;124mPrevious-Data.csv\u001b[39m\u001b[38;5;124m'\u001b[39m)\n\u001b[0;32m      6\u001b[0m \u001b[38;5;66;03m# Convert the 'Date' column to datetime format\u001b[39;00m\n\u001b[1;32m----> 7\u001b[0m previous_data[\u001b[38;5;124m'\u001b[39m\u001b[38;5;124mDate\u001b[39m\u001b[38;5;124m'\u001b[39m] \u001b[38;5;241m=\u001b[39m pd\u001b[38;5;241m.\u001b[39mto_datetime(\u001b[43mprevious_data\u001b[49m\u001b[43m[\u001b[49m\u001b[38;5;124;43m'\u001b[39;49m\u001b[38;5;124;43mDate\u001b[39;49m\u001b[38;5;124;43m'\u001b[39;49m\u001b[43m]\u001b[49m)\n\u001b[0;32m      9\u001b[0m \u001b[38;5;66;03m# Filter the data for January to March\u001b[39;00m\n\u001b[0;32m     10\u001b[0m jan_to_mar_data \u001b[38;5;241m=\u001b[39m previous_data[(previous_data[\u001b[38;5;124m'\u001b[39m\u001b[38;5;124mDate\u001b[39m\u001b[38;5;124m'\u001b[39m]\u001b[38;5;241m.\u001b[39mdt\u001b[38;5;241m.\u001b[39mmonth \u001b[38;5;241m>\u001b[39m\u001b[38;5;241m=\u001b[39m \u001b[38;5;241m1\u001b[39m) \u001b[38;5;241m&\u001b[39m (previous_data[\u001b[38;5;124m'\u001b[39m\u001b[38;5;124mDate\u001b[39m\u001b[38;5;124m'\u001b[39m]\u001b[38;5;241m.\u001b[39mdt\u001b[38;5;241m.\u001b[39mmonth \u001b[38;5;241m<\u001b[39m\u001b[38;5;241m=\u001b[39m \u001b[38;5;241m3\u001b[39m)]\n",
      "File \u001b[1;32m~\\AppData\\Local\\Programs\\Python\\Python311\\Lib\\site-packages\\pandas\\core\\frame.py:3761\u001b[0m, in \u001b[0;36mDataFrame.__getitem__\u001b[1;34m(self, key)\u001b[0m\n\u001b[0;32m   3759\u001b[0m \u001b[38;5;28;01mif\u001b[39;00m \u001b[38;5;28mself\u001b[39m\u001b[38;5;241m.\u001b[39mcolumns\u001b[38;5;241m.\u001b[39mnlevels \u001b[38;5;241m>\u001b[39m \u001b[38;5;241m1\u001b[39m:\n\u001b[0;32m   3760\u001b[0m     \u001b[38;5;28;01mreturn\u001b[39;00m \u001b[38;5;28mself\u001b[39m\u001b[38;5;241m.\u001b[39m_getitem_multilevel(key)\n\u001b[1;32m-> 3761\u001b[0m indexer \u001b[38;5;241m=\u001b[39m \u001b[38;5;28;43mself\u001b[39;49m\u001b[38;5;241;43m.\u001b[39;49m\u001b[43mcolumns\u001b[49m\u001b[38;5;241;43m.\u001b[39;49m\u001b[43mget_loc\u001b[49m\u001b[43m(\u001b[49m\u001b[43mkey\u001b[49m\u001b[43m)\u001b[49m\n\u001b[0;32m   3762\u001b[0m \u001b[38;5;28;01mif\u001b[39;00m is_integer(indexer):\n\u001b[0;32m   3763\u001b[0m     indexer \u001b[38;5;241m=\u001b[39m [indexer]\n",
      "File \u001b[1;32m~\\AppData\\Local\\Programs\\Python\\Python311\\Lib\\site-packages\\pandas\\core\\indexes\\base.py:3655\u001b[0m, in \u001b[0;36mIndex.get_loc\u001b[1;34m(self, key)\u001b[0m\n\u001b[0;32m   3653\u001b[0m     \u001b[38;5;28;01mreturn\u001b[39;00m \u001b[38;5;28mself\u001b[39m\u001b[38;5;241m.\u001b[39m_engine\u001b[38;5;241m.\u001b[39mget_loc(casted_key)\n\u001b[0;32m   3654\u001b[0m \u001b[38;5;28;01mexcept\u001b[39;00m \u001b[38;5;167;01mKeyError\u001b[39;00m \u001b[38;5;28;01mas\u001b[39;00m err:\n\u001b[1;32m-> 3655\u001b[0m     \u001b[38;5;28;01mraise\u001b[39;00m \u001b[38;5;167;01mKeyError\u001b[39;00m(key) \u001b[38;5;28;01mfrom\u001b[39;00m \u001b[38;5;21;01merr\u001b[39;00m\n\u001b[0;32m   3656\u001b[0m \u001b[38;5;28;01mexcept\u001b[39;00m \u001b[38;5;167;01mTypeError\u001b[39;00m:\n\u001b[0;32m   3657\u001b[0m     \u001b[38;5;66;03m# If we have a listlike key, _check_indexing_error will raise\u001b[39;00m\n\u001b[0;32m   3658\u001b[0m     \u001b[38;5;66;03m#  InvalidIndexError. Otherwise we fall through and re-raise\u001b[39;00m\n\u001b[0;32m   3659\u001b[0m     \u001b[38;5;66;03m#  the TypeError.\u001b[39;00m\n\u001b[0;32m   3660\u001b[0m     \u001b[38;5;28mself\u001b[39m\u001b[38;5;241m.\u001b[39m_check_indexing_error(key)\n",
      "\u001b[1;31mKeyError\u001b[0m: 'Date'"
     ]
    }
   ],
   "source": [
    "import pandas as pd\n",
    "\n",
    "# Read the data from the Excel file\n",
    "previous_data = pd.read_csv('Previous-Data.csv')\n",
    "\n",
    "# Convert the 'Date' column to datetime format\n",
    "previous_data['Date'] = pd.to_datetime(previous_data['Date'])\n",
    "\n",
    "# Filter the data for January to March\n",
    "jan_to_mar_data = previous_data[(previous_data['Date'].dt.month >= 1) & (previous_data['Date'].dt.month <= 3)]\n",
    "\n",
    "# Count the number of profiles\n",
    "num_profiles_jan_to_mar = len(jan_to_mar_data)\n",
    "\n",
    "# Print the result\n",
    "print(\"Number of profiles from January to March in the previous data:\", num_profiles_jan_to_mar)\n"
   ]
  },
  {
   "cell_type": "code",
   "execution_count": null,
   "id": "a18c8959-fbc6-4ede-bbde-f9d7d89696fa",
   "metadata": {},
   "outputs": [],
   "source": []
  }
 ],
 "metadata": {
  "kernelspec": {
   "display_name": "Python 3 (ipykernel)",
   "language": "python",
   "name": "python3"
  },
  "language_info": {
   "codemirror_mode": {
    "name": "ipython",
    "version": 3
   },
   "file_extension": ".py",
   "mimetype": "text/x-python",
   "name": "python",
   "nbconvert_exporter": "python",
   "pygments_lexer": "ipython3",
   "version": "3.11.4"
  }
 },
 "nbformat": 4,
 "nbformat_minor": 5
}
