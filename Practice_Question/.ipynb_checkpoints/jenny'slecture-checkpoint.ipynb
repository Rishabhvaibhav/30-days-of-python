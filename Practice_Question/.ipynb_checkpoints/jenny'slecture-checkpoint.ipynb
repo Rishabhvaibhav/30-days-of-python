{
 "cells": [
  {
   "cell_type": "code",
   "execution_count": 1,
   "id": "cbb5366a-bca0-4988-8915-7fd945a9cf2c",
   "metadata": {},
   "outputs": [],
   "source": [
    "# check and clear all the concept of bitwise operators\n"
   ]
  },
  {
   "cell_type": "code",
   "execution_count": 2,
   "id": "168374b4-2c11-40f1-8d75-2e218098b8d4",
   "metadata": {},
   "outputs": [
    {
     "data": {
      "text/plain": [
       "79"
      ]
     },
     "execution_count": 2,
     "metadata": {},
     "output_type": "execute_result"
    }
   ],
   "source": [
    "a = 78.54654548\n",
    "round(a)"
   ]
  },
  {
   "cell_type": "code",
   "execution_count": 3,
   "id": "f78c9422-09c3-4d96-b1e5-b893e1e34511",
   "metadata": {},
   "outputs": [
    {
     "data": {
      "text/plain": [
       "78.55"
      ]
     },
     "execution_count": 3,
     "metadata": {},
     "output_type": "execute_result"
    }
   ],
   "source": [
    "round(a,2)"
   ]
  },
  {
   "cell_type": "code",
   "execution_count": 4,
   "id": "c2090954-8e3a-4eaa-9b22-5c928b311c32",
   "metadata": {},
   "outputs": [
    {
     "data": {
      "text/plain": [
       "78.54655"
      ]
     },
     "execution_count": 4,
     "metadata": {},
     "output_type": "execute_result"
    }
   ],
   "source": [
    "round(a,5)"
   ]
  },
  {
   "cell_type": "code",
   "execution_count": 6,
   "id": "86325a50-abd7-481f-812f-a33fe4ca320e",
   "metadata": {},
   "outputs": [],
   "source": [
    "# task"
   ]
  },
  {
   "cell_type": "code",
   "execution_count": 12,
   "id": "33c75a78-c5d2-4037-a9ae-d6b35ff83258",
   "metadata": {},
   "outputs": [
    {
     "name": "stdin",
     "output_type": "stream",
     "text": [
      "Enter yout corrent age  45\n"
     ]
    },
    {
     "name": "stdout",
     "output_type": "stream",
     "text": [
      " you have 45 year , 540 month and 16425 days left to live \n"
     ]
    }
   ],
   "source": [
    "# how many days, weeks and month , we have left if we have live until 19 year old \n",
    "current_age = int(input(\"Enter yout corrent age \"))\n",
    "\n",
    "\n",
    "\n",
    "\n",
    "years_left = 90  - current_age\n",
    "\n",
    "month_left = years_left * 12 \n",
    "\n",
    "days_left = years_left * 365 \n",
    "\n",
    "print(f\" you have {years_left} year , {month_left} month and {days_left} days left to live \")\n",
    "\n",
    "\n",
    "\n",
    "\n",
    "\n",
    "\n",
    "\n",
    "\n"
   ]
  },
  {
   "cell_type": "code",
   "execution_count": 13,
   "id": "a255e1fa-1b05-4168-b6bb-f28f5baa0346",
   "metadata": {},
   "outputs": [
    {
     "name": "stdout",
     "output_type": "stream",
     "text": [
      "i get the apple \n"
     ]
    }
   ],
   "source": [
    "# buy something from super market\n",
    "\n",
    "# super_market_fruit = sms\n",
    "smf = [\"apple\",\"mango\",\"litchi\"]\n",
    "\n",
    "# left_packt = lp\n",
    "lp = [1,2,3]\n",
    "\n",
    "if \"apple\" in smf:\n",
    "    if 2 in lp:\n",
    "        print(\"i get the apple \")\n",
    "    else:\n",
    "        pass\n",
    "elif tomato in smf:\n",
    "    print(\"i buy the tomato\")\n",
    "\n",
    "else:\n",
    "    print(\"return home \")"
   ]
  },
  {
   "cell_type": "code",
   "execution_count": 8,
   "id": "55340cc7-31f2-4231-a7c9-a3955cff5877",
   "metadata": {},
   "outputs": [
    {
     "name": "stdin",
     "output_type": "stream",
     "text": [
      "Enter the weight in kg :  56\n",
      "Enter the height in ft :  45\n"
     ]
    },
    {
     "name": "stdout",
     "output_type": "stream",
     "text": [
      "my body mass index is 14.0 which is : under Weight\n"
     ]
    }
   ],
   "source": [
    "# Find BMI then check is basic categories\n",
    "def find_bmi():\n",
    "    \n",
    "    weight = int(input(\"Enter the weight in kg : \"))\n",
    "    height_in_feet = float(input(\"Enter the height in ft : \"))\n",
    "    height_in_meter = height_in_feet * 0.3048\n",
    "    bmi = weight / (height ** 2)\n",
    "    \n",
    "    if bmi < 18.5:\n",
    "        print(f\"my body mass index is {bmi} which is : under Weight\")\n",
    "    elif bmi == 18.5 or bmi < 25:\n",
    "        print(f\"my body mass index is {bmi} which is : Normal \")\n",
    "    else : \n",
    "        print(f\"my body mass index is {bmi} which is : Over weight \")\n",
    "\n",
    "find_bmi()\n",
    "                   \n",
    "\n"
   ]
  },
  {
   "cell_type": "code",
   "execution_count": 13,
   "id": "815e4453-5405-496d-b0ae-5ac3ae4946f1",
   "metadata": {},
   "outputs": [
    {
     "name": "stdin",
     "output_type": "stream",
     "text": [
      "Enter the year you want to check , leap year or not :  2004\n"
     ]
    },
    {
     "name": "stdout",
     "output_type": "stream",
     "text": [
      "2004 year is leap year \n"
     ]
    }
   ],
   "source": [
    "# check leap year or not \n",
    "year = int(input(\"Enter the year you want to check , leap year or not : \"))\n",
    "\n",
    "if (year % 4) == 0:\n",
    "    print(f\"{year} year is leap year \")\n",
    "else:\n",
    "    print(\"this is not a leap year \")"
   ]
  },
  {
   "cell_type": "code",
   "execution_count": 4,
   "id": "758c1f7e-6a43-4c7a-8d90-b6f6231663b6",
   "metadata": {},
   "outputs": [
    {
     "name": "stdin",
     "output_type": "stream",
     "text": [
      " 45\n"
     ]
    },
    {
     "name": "stdout",
     "output_type": "stream",
     "text": [
      "a\n",
      "None\n"
     ]
    }
   ],
   "source": [
    "a = 89\n",
    "b = int(input())\n",
    "\n",
    "if a > b :\n",
    "    print(\"a\")\n",
    "if a < b :\n",
    "    print(\"b\")\n",
    "if a == b :\n",
    "    print(\"None\")\n",
    "if a > b :\n",
    "    print(\"None\")"
   ]
  },
  {
   "cell_type": "code",
   "execution_count": 7,
   "id": "6eb87b4e-4602-444d-a439-3ed4ed44b15c",
   "metadata": {},
   "outputs": [
    {
     "name": "stdin",
     "output_type": "stream",
     "text": [
      "Enter the age you want 13\n",
      "Number of photo you clicked :  10\n"
     ]
    },
    {
     "name": "stdout",
     "output_type": "stream",
     "text": [
      "snap cost is  :  100\n",
      "150\n"
     ]
    }
   ],
   "source": [
    "age = int(input(\"Enter the age you want\"))\n",
    "photo = int(input(\"Number of photo you clicked : \"))\n",
    "snap_price = 10 * photo\n",
    "\n",
    "if age >=  0  :\n",
    "    print(\"snap cost is  : \"  , snap_price)\n",
    "if age <14 :\n",
    "    print(50 + snap_price)\n",
    "elif age < 18:\n",
    "    print(150 + snap_price)\n",
    "elif age < 25:\n",
    "    print(250 + snap_price)\n",
    "else :\n",
    "    print(350 + snap_price)\n"
   ]
  },
  {
   "cell_type": "code",
   "execution_count": 3,
   "id": "b60359a1-e910-40ab-9906-0b923daa6b9b",
   "metadata": {},
   "outputs": [
    {
     "name": "stdin",
     "output_type": "stream",
     "text": [
      "Enter the height ?  4\n"
     ]
    },
    {
     "name": "stdout",
     "output_type": "stream",
     "text": [
      "you can ride  \n"
     ]
    },
    {
     "name": "stdin",
     "output_type": "stream",
     "text": [
      "Enter the age :  25\n"
     ]
    },
    {
     "name": "stdout",
     "output_type": "stream",
     "text": [
      "ticket price is 500\n"
     ]
    },
    {
     "name": "stdin",
     "output_type": "stream",
     "text": [
      "if you want to click the photo click Y / N Y\n"
     ]
    },
    {
     "name": "stdout",
     "output_type": "stream",
     "text": [
      "The bill amount is : 550\n"
     ]
    }
   ],
   "source": [
    "# same above question but this time the logic is different \n",
    "\n",
    "height = int(input(\"Enter the height ? \"))\n",
    "\n",
    "if height >= 3:\n",
    "    print(\"you can ride  \")\n",
    "    \n",
    "    age = int(input(\"Enter the age : \"))\n",
    "    if age < 12 :\n",
    "        bill = 150\n",
    "        print(\"ticket price is 150\")\n",
    "    elif age <= 18 :\n",
    "        bill = 250\n",
    "        print(\"ticket price is 250\")\n",
    "    else :\n",
    "        bill = 500\n",
    "        print(\"ticket price is 500\")\n",
    "        \n",
    "    photo = input(\"if you want to click the photo click Y / N\")\n",
    "    if photo == \"y\" or photo == \"Y\":\n",
    "        bill = bill + 50\n",
    "        print(f\"The bill amount is : {bill}\")\n",
    "else :\n",
    "    print(\"can't Ride \")\n",
    "    \n"
   ]
  },
  {
   "cell_type": "code",
   "execution_count": null,
   "id": "cd748d6e-9595-4ed0-b0c8-6a0f2f7b35a8",
   "metadata": {},
   "outputs": [
    {
     "name": "stdin",
     "output_type": "stream",
     "text": [
      "Enter the size you want \n",
      " Small = s \n",
      " Medium = m \n",
      " Large= l \n",
      " Pick Any pizza You want :   l\n"
     ]
    },
    {
     "name": "stdout",
     "output_type": "stream",
     "text": [
      "you choose small pizza \n"
     ]
    }
   ],
   "source": [
    "# pizza order program \n",
    "\n",
    "size = input(\"Enter the size you want \\n Small = s \\n Medium = m \\n Large= l \\n Pick Any pizza You want :  \")\n",
    "\n",
    "if size == \"s\" or \"S\":\n",
    "    cost = 100\n",
    "    print(\"you choose small pizza \")\n",
    "elif size == \"m\" or \"M\":\n",
    "    cost = 200\n",
    "    print(\"you choose medium pizza \")\n",
    "elif size == \"l\" or \"L\":\n",
    "    cost = 300\n",
    "    print(\"you choose large pizza \")\n",
    "else:\n",
    "    pass\n",
    "\n",
    "addon = input(\"if want to add peperroni enter Y / N \")\n",
    "\n",
    "if addon == \"y\" or \"Y\":\n",
    "    if cost == 100:\n",
    "         cost = cost + 30\n",
    "         print(f\"Your current cost is {cost}\")\n",
    "    elif cost == 200:\n",
    "         cost = cost + 50\n",
    "         print(f\"Your current cost is {cost}\")\n",
    "    elif cost == 300:\n",
    "         cost = cost + 80\n",
    "         print(f\"Your current cost is {cost}\")\n",
    "    else: \n",
    "        pass\n",
    "cheese = input(\"you want extra cheese :Y / N\")   \n",
    "if cheese == \"y\" or \"Y\":\n",
    "    cost = cost + 20\n",
    "    print(f\"current code is : {cost}\")\n",
    "else:\n",
    "    pass\n"
   ]
  },
  {
   "cell_type": "markdown",
   "id": "a8cc11fb-e331-48d9-9aab-fe23b1bfba00",
   "metadata": {},
   "source": [
    "# "
   ]
  }
 ],
 "metadata": {
  "kernelspec": {
   "display_name": "Python 3 (ipykernel)",
   "language": "python",
   "name": "python3"
  },
  "language_info": {
   "codemirror_mode": {
    "name": "ipython",
    "version": 3
   },
   "file_extension": ".py",
   "mimetype": "text/x-python",
   "name": "python",
   "nbconvert_exporter": "python",
   "pygments_lexer": "ipython3",
   "version": "3.11.4"
  }
 },
 "nbformat": 4,
 "nbformat_minor": 5
}
