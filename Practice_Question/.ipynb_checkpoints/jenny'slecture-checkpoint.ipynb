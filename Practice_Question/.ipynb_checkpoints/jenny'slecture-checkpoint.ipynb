{
 "cells": [
  {
   "cell_type": "code",
   "execution_count": 1,
   "id": "cbb5366a-bca0-4988-8915-7fd945a9cf2c",
   "metadata": {},
   "outputs": [],
   "source": [
    "# check and clear all the concept of bitwise operators\n"
   ]
  },
  {
   "cell_type": "code",
   "execution_count": 2,
   "id": "168374b4-2c11-40f1-8d75-2e218098b8d4",
   "metadata": {},
   "outputs": [
    {
     "data": {
      "text/plain": [
       "79"
      ]
     },
     "execution_count": 2,
     "metadata": {},
     "output_type": "execute_result"
    }
   ],
   "source": [
    "a = 78.54654548\n",
    "round(a)"
   ]
  },
  {
   "cell_type": "code",
   "execution_count": 3,
   "id": "f78c9422-09c3-4d96-b1e5-b893e1e34511",
   "metadata": {},
   "outputs": [
    {
     "data": {
      "text/plain": [
       "78.55"
      ]
     },
     "execution_count": 3,
     "metadata": {},
     "output_type": "execute_result"
    }
   ],
   "source": [
    "round(a,2)"
   ]
  },
  {
   "cell_type": "code",
   "execution_count": 4,
   "id": "c2090954-8e3a-4eaa-9b22-5c928b311c32",
   "metadata": {},
   "outputs": [
    {
     "data": {
      "text/plain": [
       "78.54655"
      ]
     },
     "execution_count": 4,
     "metadata": {},
     "output_type": "execute_result"
    }
   ],
   "source": [
    "round(a,5)"
   ]
  },
  {
   "cell_type": "code",
   "execution_count": 6,
   "id": "86325a50-abd7-481f-812f-a33fe4ca320e",
   "metadata": {},
   "outputs": [],
   "source": [
    "# task"
   ]
  },
  {
   "cell_type": "code",
   "execution_count": 12,
   "id": "33c75a78-c5d2-4037-a9ae-d6b35ff83258",
   "metadata": {},
   "outputs": [
    {
     "name": "stdin",
     "output_type": "stream",
     "text": [
      "Enter yout corrent age  45\n"
     ]
    },
    {
     "name": "stdout",
     "output_type": "stream",
     "text": [
      " you have 45 year , 540 month and 16425 days left to live \n"
     ]
    }
   ],
   "source": [
    "# how many days, weeks and month , we have left if we have live until 19 year old \n",
    "current_age = int(input(\"Enter yout corrent age \"))\n",
    "\n",
    "\n",
    "\n",
    "\n",
    "years_left = 90  - current_age\n",
    "\n",
    "month_left = years_left * 12 \n",
    "\n",
    "days_left = years_left * 365 \n",
    "\n",
    "print(f\" you have {years_left} year , {month_left} month and {days_left} days left to live \")\n",
    "\n",
    "\n",
    "\n",
    "\n",
    "\n",
    "\n",
    "\n",
    "\n"
   ]
  },
  {
   "cell_type": "code",
   "execution_count": 13,
   "id": "a255e1fa-1b05-4168-b6bb-f28f5baa0346",
   "metadata": {},
   "outputs": [
    {
     "name": "stdout",
     "output_type": "stream",
     "text": [
      "i get the apple \n"
     ]
    }
   ],
   "source": [
    "# buy something from super market\n",
    "\n",
    "# super_market_fruit = sms\n",
    "smf = [\"apple\",\"mango\",\"litchi\"]\n",
    "\n",
    "# left_packt = lp\n",
    "lp = [1,2,3]\n",
    "\n",
    "if \"apple\" in smf:\n",
    "    if 2 in lp:\n",
    "        print(\"i get the apple \")\n",
    "    else:\n",
    "        pass\n",
    "elif tomato in smf:\n",
    "    print(\"i buy the tomato\")\n",
    "\n",
    "else:\n",
    "    print(\"return home \")"
   ]
  },
  {
   "cell_type": "code",
   "execution_count": null,
   "id": "55340cc7-31f2-4231-a7c9-a3955cff5877",
   "metadata": {},
   "outputs": [],
   "source": [
    "# Find BMI then check is basic categories\n",
    "\n"
   ]
  }
 ],
 "metadata": {
  "kernelspec": {
   "display_name": "Python 3 (ipykernel)",
   "language": "python",
   "name": "python3"
  },
  "language_info": {
   "codemirror_mode": {
    "name": "ipython",
    "version": 3
   },
   "file_extension": ".py",
   "mimetype": "text/x-python",
   "name": "python",
   "nbconvert_exporter": "python",
   "pygments_lexer": "ipython3",
   "version": "3.11.4"
  }
 },
 "nbformat": 4,
 "nbformat_minor": 5
}
