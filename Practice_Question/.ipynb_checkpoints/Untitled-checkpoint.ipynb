{
 "cells": [
  {
   "cell_type": "code",
   "execution_count": 1,
   "id": "462f6e12-cc13-4ea4-a6c5-bfae58847277",
   "metadata": {},
   "outputs": [
    {
     "data": {
      "text/plain": [
       "'\\n1. Reverse a string.\\n2. Check if a string is a palindrome.\\n3. Calculate the factorial of a number.\\n4. Find the largest element in a list.\\n5. Count the occurrence of a specific character in a string.\\n6. Remove duplicates from a list.\\n7. Sort a list of numbers in ascending order.\\n8. Find the square root of a number.\\n9. Check if a number is prime.\\n10. Concatenate two strings.\\n11. Convert a string to lowercase.\\n12. Replace all occurrences of a character in a string.\\n13. Generate a list of all prime numbers up to a given limit.\\n14. Calculate the sum of all elements in a list.\\n15. Find the minimum element in a list.\\n16. Calculate the power of a number (exponentiation).\\n17. Find the length of a string.\\n18. Check if a list is empty.\\n19. Check if a number is even or odd.\\n20. Calculate the area of a rectangle.\\n'"
      ]
     },
     "execution_count": 1,
     "metadata": {},
     "output_type": "execute_result"
    }
   ],
   "source": [
    "\"\"\"\n",
    "1. Reverse a string.\n",
    "2. Check if a string is a palindrome.\n",
    "3. Calculate the factorial of a number.\n",
    "4. Find the largest element in a list.\n",
    "5. Count the occurrence of a specific character in a string.\n",
    "6. Remove duplicates from a list.\n",
    "7. Sort a list of numbers in ascending order.\n",
    "8. Find the square root of a number.\n",
    "9. Check if a number is prime.\n",
    "10. Concatenate two strings.\n",
    "11. Convert a string to lowercase.\n",
    "12. Replace all occurrences of a character in a string.\n",
    "13. Generate a list of all prime numbers up to a given limit.\n",
    "14. Calculate the sum of all elements in a list.\n",
    "15. Find the minimum element in a list.\n",
    "16. Calculate the power of a number (exponentiation).\n",
    "17. Find the length of a string.\n",
    "18. Check if a list is empty.\n",
    "19. Check if a number is even or odd.\n",
    "20. Calculate the area of a rectangle.\n",
    "\"\"\"\n"
   ]
  },
  {
   "cell_type": "code",
   "execution_count": 24,
   "id": "3609ddfb-1062-4c5a-b9d9-74dc78946280",
   "metadata": {},
   "outputs": [
    {
     "data": {
      "text/plain": [
       "'hbahsiR'"
      ]
     },
     "execution_count": 24,
     "metadata": {},
     "output_type": "execute_result"
    }
   ],
   "source": [
    "# 1. Reverse a string.\n",
    "def reverse(n):\n",
    "    n = n[::-1]\n",
    "    return n \n",
    "reverse(\"Rishabh\")"
   ]
  },
  {
   "cell_type": "code",
   "execution_count": 10,
   "id": "497ecbd1-10f5-4f80-a7f6-3cf8550989d7",
   "metadata": {},
   "outputs": [
    {
     "name": "stdin",
     "output_type": "stream",
     "text": [
      "Enter any word to check this is palidrome or not rvr\n"
     ]
    },
    {
     "name": "stdout",
     "output_type": "stream",
     "text": [
      "this word is the palindrome\n"
     ]
    }
   ],
   "source": [
    "# 2. Check if a string is a palindrome.\n",
    "def pali(str):\n",
    "    if str[::-1] == str[0::] :\n",
    "         print(\"this word is the palindrome\")\n",
    "    else:\n",
    "         print(\"This word is not a palindrome\")\n",
    "           \n",
    "\n",
    "str = input(\"Enter any word to check this is palidrome or not\" )\n",
    "pali(str)\n"
   ]
  },
  {
   "cell_type": "code",
   "execution_count": null,
   "id": "7e9dc292-f36a-49c6-9035-af874839d705",
   "metadata": {},
   "outputs": [],
   "source": [
    "# 3. Calculate the factorial of a number.\n",
    "def factorial_number(n):\n",
    "    if n == 0 and n == 1 :\n",
    "        return 1\n",
    "    else :\n",
    "        n = n * (n-1)\n",
    "\n",
    "for i in n :\n",
    "    n = n - i \n",
    "\n",
    "\n"
   ]
  },
  {
   "cell_type": "code",
   "execution_count": 12,
   "id": "c003ad35-9f41-4a4b-a01b-4f3d76d2dc75",
   "metadata": {},
   "outputs": [
    {
     "data": {
      "text/plain": [
       "946"
      ]
     },
     "execution_count": 12,
     "metadata": {},
     "output_type": "execute_result"
    }
   ],
   "source": [
    "# 4. Find the largest element in a list.\n",
    "def max_list(list):\n",
    "     list = [1,2,3,4,5,6,7,8,9,9,78,45,56,89,12,23,4,556,7,88,94,55,6,12,12,23,64,6,46,4,9,65,56,56,89,7,946,5,]\n",
    "     max_num = max(list)\n",
    "     return max_num\n",
    "\n",
    "max_list(list)"
   ]
  },
  {
   "cell_type": "code",
   "execution_count": 32,
   "id": "e7485985-0a3d-4d83-9aeb-5a866b4a9856",
   "metadata": {},
   "outputs": [
    {
     "data": {
      "text/plain": [
       "'h'"
      ]
     },
     "execution_count": 32,
     "metadata": {},
     "output_type": "execute_result"
    }
   ],
   "source": [
    "# 5. Count the occurrence of a specific character in a string.\n",
    "\n",
    "def count(str):\n",
    "    str = \"Rishabh\"\n",
    "    count_str = str[-1]\n",
    "\n",
    "    print(count_str)\n",
    "    return count_str\n",
    "count(str)\n",
    "\n",
    "\n",
    "\n",
    "\n",
    "\n"
   ]
  },
  {
   "cell_type": "code",
   "execution_count": 20,
   "id": "c73176de-7158-4ea2-8c97-7966e26c9900",
   "metadata": {},
   "outputs": [
    {
     "ename": "SyntaxError",
     "evalue": "incomplete input (1925085379.py, line 1)",
     "output_type": "error",
     "traceback": [
      "\u001b[1;36m  Cell \u001b[1;32mIn[20], line 1\u001b[1;36m\u001b[0m\n\u001b[1;33m    for i in range(5):\u001b[0m\n\u001b[1;37m                      ^\u001b[0m\n\u001b[1;31mSyntaxError\u001b[0m\u001b[1;31m:\u001b[0m incomplete input\n"
     ]
    }
   ],
   "source": [
    "for i in range(5):"
   ]
  },
  {
   "cell_type": "code",
   "execution_count": null,
   "id": "841842a5-4b02-4ea3-aabb-fffe6c491573",
   "metadata": {},
   "outputs": [],
   "source": [
    "# 6. Remove duplicates from a list."
   ]
  },
  {
   "cell_type": "code",
   "execution_count": null,
   "id": "d2498e10-e08a-45a7-8124-3b66f8a288f5",
   "metadata": {},
   "outputs": [],
   "source": []
  }
 ],
 "metadata": {
  "kernelspec": {
   "display_name": "Python 3 (ipykernel)",
   "language": "python",
   "name": "python3"
  },
  "language_info": {
   "codemirror_mode": {
    "name": "ipython",
    "version": 3
   },
   "file_extension": ".py",
   "mimetype": "text/x-python",
   "name": "python",
   "nbconvert_exporter": "python",
   "pygments_lexer": "ipython3",
   "version": "3.11.4"
  }
 },
 "nbformat": 4,
 "nbformat_minor": 5
}
