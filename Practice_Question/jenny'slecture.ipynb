{
 "cells": [
  {
   "cell_type": "code",
   "execution_count": 1,
   "id": "cbb5366a-bca0-4988-8915-7fd945a9cf2c",
   "metadata": {},
   "outputs": [],
   "source": [
    "# check and clear all the concept of bitwise operators\n"
   ]
  },
  {
   "cell_type": "code",
   "execution_count": 2,
   "id": "168374b4-2c11-40f1-8d75-2e218098b8d4",
   "metadata": {},
   "outputs": [
    {
     "data": {
      "text/plain": [
       "79"
      ]
     },
     "execution_count": 2,
     "metadata": {},
     "output_type": "execute_result"
    }
   ],
   "source": [
    "a = 78.54654548\n",
    "round(a)"
   ]
  },
  {
   "cell_type": "code",
   "execution_count": 3,
   "id": "f78c9422-09c3-4d96-b1e5-b893e1e34511",
   "metadata": {},
   "outputs": [
    {
     "data": {
      "text/plain": [
       "78.55"
      ]
     },
     "execution_count": 3,
     "metadata": {},
     "output_type": "execute_result"
    }
   ],
   "source": [
    "round(a,2)"
   ]
  },
  {
   "cell_type": "code",
   "execution_count": 4,
   "id": "c2090954-8e3a-4eaa-9b22-5c928b311c32",
   "metadata": {},
   "outputs": [
    {
     "data": {
      "text/plain": [
       "78.54655"
      ]
     },
     "execution_count": 4,
     "metadata": {},
     "output_type": "execute_result"
    }
   ],
   "source": [
    "round(a,5)"
   ]
  },
  {
   "cell_type": "code",
   "execution_count": 6,
   "id": "86325a50-abd7-481f-812f-a33fe4ca320e",
   "metadata": {},
   "outputs": [],
   "source": [
    "# task"
   ]
  },
  {
   "cell_type": "code",
   "execution_count": 12,
   "id": "33c75a78-c5d2-4037-a9ae-d6b35ff83258",
   "metadata": {},
   "outputs": [
    {
     "name": "stdin",
     "output_type": "stream",
     "text": [
      "Enter yout corrent age  45\n"
     ]
    },
    {
     "name": "stdout",
     "output_type": "stream",
     "text": [
      " you have 45 year , 540 month and 16425 days left to live \n"
     ]
    }
   ],
   "source": [
    "# how many days, weeks and month , we have left if we have live until 19 year old \n",
    "current_age = int(input(\"Enter yout corrent age \"))\n",
    "\n",
    "\n",
    "\n",
    "\n",
    "years_left = 90  - current_age\n",
    "\n",
    "month_left = years_left * 12 \n",
    "\n",
    "days_left = years_left * 365 \n",
    "\n",
    "print(f\" you have {years_left} year , {month_left} month and {days_left} days left to live \")\n",
    "\n",
    "\n",
    "\n",
    "\n",
    "\n",
    "\n",
    "\n",
    "\n"
   ]
  },
  {
   "cell_type": "code",
   "execution_count": 13,
   "id": "a255e1fa-1b05-4168-b6bb-f28f5baa0346",
   "metadata": {},
   "outputs": [
    {
     "name": "stdout",
     "output_type": "stream",
     "text": [
      "i get the apple \n"
     ]
    }
   ],
   "source": [
    "# buy something from super market\n",
    "\n",
    "# super_market_fruit = sms\n",
    "smf = [\"apple\",\"mango\",\"litchi\"]\n",
    "\n",
    "# left_packt = lp\n",
    "lp = [1,2,3]\n",
    "\n",
    "if \"apple\" in smf:\n",
    "    if 2 in lp:\n",
    "        print(\"i get the apple \")\n",
    "    else:\n",
    "        pass\n",
    "elif tomato in smf:\n",
    "    print(\"i buy the tomato\")\n",
    "\n",
    "else:\n",
    "    print(\"return home \")"
   ]
  },
  {
   "cell_type": "code",
   "execution_count": 8,
   "id": "55340cc7-31f2-4231-a7c9-a3955cff5877",
   "metadata": {},
   "outputs": [
    {
     "name": "stdin",
     "output_type": "stream",
     "text": [
      "Enter the weight in kg :  56\n",
      "Enter the height in ft :  45\n"
     ]
    },
    {
     "name": "stdout",
     "output_type": "stream",
     "text": [
      "my body mass index is 14.0 which is : under Weight\n"
     ]
    }
   ],
   "source": [
    "# Find BMI then check is basic categories\n",
    "def find_bmi():\n",
    "    \n",
    "    weight = int(input(\"Enter the weight in kg : \"))\n",
    "    height_in_feet = float(input(\"Enter the height in ft : \"))\n",
    "    height_in_meter = height_in_feet * 0.3048\n",
    "    bmi = weight / (height ** 2)\n",
    "    \n",
    "    if bmi < 18.5:\n",
    "        print(f\"my body mass index is {bmi} which is : under Weight\")\n",
    "    elif bmi == 18.5 or bmi < 25:\n",
    "        print(f\"my body mass index is {bmi} which is : Normal \")\n",
    "    else : \n",
    "        print(f\"my body mass index is {bmi} which is : Over weight \")\n",
    "\n",
    "find_bmi()\n",
    "                   \n",
    "\n"
   ]
  },
  {
   "cell_type": "code",
   "execution_count": 13,
   "id": "815e4453-5405-496d-b0ae-5ac3ae4946f1",
   "metadata": {},
   "outputs": [
    {
     "name": "stdin",
     "output_type": "stream",
     "text": [
      "Enter the year you want to check , leap year or not :  2004\n"
     ]
    },
    {
     "name": "stdout",
     "output_type": "stream",
     "text": [
      "2004 year is leap year \n"
     ]
    }
   ],
   "source": [
    "# check leap year or not \n",
    "year = int(input(\"Enter the year you want to check , leap year or not : \"))\n",
    "\n",
    "if (year % 4) == 0:\n",
    "    print(f\"{year} year is leap year \")\n",
    "else:\n",
    "    print(\"this is not a leap year \")"
   ]
  },
  {
   "cell_type": "code",
   "execution_count": 4,
   "id": "758c1f7e-6a43-4c7a-8d90-b6f6231663b6",
   "metadata": {},
   "outputs": [
    {
     "name": "stdin",
     "output_type": "stream",
     "text": [
      " 45\n"
     ]
    },
    {
     "name": "stdout",
     "output_type": "stream",
     "text": [
      "a\n",
      "None\n"
     ]
    }
   ],
   "source": [
    "a = 89\n",
    "b = int(input())\n",
    "\n",
    "if a > b :\n",
    "    print(\"a\")\n",
    "if a < b :\n",
    "    print(\"b\")\n",
    "if a == b :\n",
    "    print(\"None\")\n",
    "if a > b :\n",
    "    print(\"None\")"
   ]
  },
  {
   "cell_type": "code",
   "execution_count": 7,
   "id": "6eb87b4e-4602-444d-a439-3ed4ed44b15c",
   "metadata": {},
   "outputs": [
    {
     "name": "stdin",
     "output_type": "stream",
     "text": [
      "Enter the age you want 13\n",
      "Number of photo you clicked :  10\n"
     ]
    },
    {
     "name": "stdout",
     "output_type": "stream",
     "text": [
      "snap cost is  :  100\n",
      "150\n"
     ]
    }
   ],
   "source": [
    "age = int(input(\"Enter the age you want\"))\n",
    "photo = int(input(\"Number of photo you clicked : \"))\n",
    "snap_price = 10 * photo\n",
    "\n",
    "if age >=  0  :\n",
    "    print(\"snap cost is  : \"  , snap_price)\n",
    "if age <14 :\n",
    "    print(50 + snap_price)\n",
    "elif age < 18:\n",
    "    print(150 + snap_price)\n",
    "elif age < 25:\n",
    "    print(250 + snap_price)\n",
    "else :\n",
    "    print(350 + snap_price)\n"
   ]
  },
  {
   "cell_type": "code",
   "execution_count": 3,
   "id": "b60359a1-e910-40ab-9906-0b923daa6b9b",
   "metadata": {},
   "outputs": [
    {
     "name": "stdin",
     "output_type": "stream",
     "text": [
      "Enter the height ?  4\n"
     ]
    },
    {
     "name": "stdout",
     "output_type": "stream",
     "text": [
      "you can ride  \n"
     ]
    },
    {
     "name": "stdin",
     "output_type": "stream",
     "text": [
      "Enter the age :  25\n"
     ]
    },
    {
     "name": "stdout",
     "output_type": "stream",
     "text": [
      "ticket price is 500\n"
     ]
    },
    {
     "name": "stdin",
     "output_type": "stream",
     "text": [
      "if you want to click the photo click Y / N Y\n"
     ]
    },
    {
     "name": "stdout",
     "output_type": "stream",
     "text": [
      "The bill amount is : 550\n"
     ]
    }
   ],
   "source": [
    "# same above question but this time the logic is different \n",
    "\n",
    "height = int(input(\"Enter the height ? \"))\n",
    "\n",
    "if height >= 3:\n",
    "    print(\"you can ride  \")\n",
    "    \n",
    "    age = int(input(\"Enter the age : \"))\n",
    "    if age < 12 :\n",
    "        bill = 150\n",
    "        print(\"ticket price is 150\")\n",
    "    elif age <= 18 :\n",
    "        bill = 250\n",
    "        print(\"ticket price is 250\")\n",
    "    else :\n",
    "        bill = 500\n",
    "        print(\"ticket price is 500\")\n",
    "        \n",
    "    photo = input(\"if you want to click the photo click Y / N\")\n",
    "    if photo == \"y\" or photo == \"Y\":\n",
    "        bill = bill + 50\n",
    "        print(f\"The bill amount is : {bill}\")\n",
    "else :\n",
    "    print(\"can't Ride \")\n",
    "    \n"
   ]
  },
  {
   "cell_type": "code",
   "execution_count": 1,
   "id": "cd748d6e-9595-4ed0-b0c8-6a0f2f7b35a8",
   "metadata": {},
   "outputs": [
    {
     "name": "stdin",
     "output_type": "stream",
     "text": [
      "Enter the size you want S/M/L :   l\n"
     ]
    },
    {
     "name": "stdout",
     "output_type": "stream",
     "text": [
      "you choose large pizza \n"
     ]
    },
    {
     "name": "stdin",
     "output_type": "stream",
     "text": [
      "if want to add peperroni enter Y / N  y\n"
     ]
    },
    {
     "name": "stdout",
     "output_type": "stream",
     "text": [
      "Your current cost is 380\n"
     ]
    },
    {
     "name": "stdin",
     "output_type": "stream",
     "text": [
      "you want extra cheese :Y / N n\n"
     ]
    },
    {
     "name": "stdout",
     "output_type": "stream",
     "text": [
      "Your current pizza Cost is 380\n"
     ]
    }
   ],
   "source": [
    "# pizza order program \n",
    "\n",
    "size = input(\"Enter the size you want S/M/L :  \")\n",
    "\n",
    "if size == \"s\" or size == \"S\":\n",
    "    cost = 100\n",
    "    print(\"you choose small pizza \")\n",
    "elif size == \"m\" or size == \"M\":\n",
    "    cost = 200\n",
    "    print(\"you choose medium pizza \")\n",
    "elif size == \"l\" or size == \"L\":\n",
    "    cost = 300\n",
    "    print(\"you choose large pizza \")\n",
    "else:\n",
    "    print(\"Invalid Entry \")\n",
    "    exit()\n",
    "\n",
    "addon = input(\"if want to add peperroni enter Y / N \")\n",
    "\n",
    "if addon == \"y\" or addon ==\"Y\":\n",
    "    if cost == 100:\n",
    "         cost = cost + 30\n",
    "         print(f\"Your current cost is {cost}\")\n",
    "    elif cost == 200:\n",
    "         cost = cost + 50\n",
    "         print(f\"Your current cost is {cost}\")\n",
    "    elif cost == 300:\n",
    "         cost = cost + 80\n",
    "         print(f\"Your current cost is {cost}\")\n",
    "    else: \n",
    "        pass\n",
    "cheese = input(\"you want extra cheese :Y / N\")   \n",
    "if cheese == \"y\" or cheese == \"Y\":\n",
    "    cost = cost + 20\n",
    "\n",
    "else:\n",
    "    pass\n",
    "print(f\"Your current pizza Cost is {cost}\")\n"
   ]
  },
  {
   "cell_type": "code",
   "execution_count": 2,
   "id": "ce306176-cdac-43a1-9ae0-2cb4d13de149",
   "metadata": {},
   "outputs": [],
   "source": [
    "#"
   ]
  },
  {
   "cell_type": "code",
   "execution_count": 17,
   "id": "81cc9a83-0c00-4fa0-ba67-e18a5372d30c",
   "metadata": {},
   "outputs": [
    {
     "name": "stdout",
     "output_type": "stream",
     "text": [
      "Using Remove [89, 45, 56, 12, 23, 13, 46, 79, 87, 54, 21, 98, 65, 32, 10]\n",
      "Using append [89, 45, 56, 12, 23, 13, 46, 79, 87, 54, 21, 98, 65, 32, 10, 0]\n",
      "Using pop [89, 45, 56, 12, 23, 13, 46, 79, 87, 54, 21, 98, 65, 32, 10]\n",
      "Using insert [78, 89, 45, 56, 12, 23, 13, 46, 79, 87, 54, 21, 98, 65, 32, 10]\n",
      "Using sort [10, 12, 13, 21, 23, 32, 45, 46, 54, 56, 65, 78, 79, 87, 89, 98]\n",
      "Using max 98\n",
      "Using min 10\n",
      "usind extend [10, 12, 13, 21, 23, 32, 45, 46, 54, 56, 65, 78, 79, 87, 89, 98, 1, 2, 3, 4, 5, 6, 78, 9]\n"
     ]
    }
   ],
   "source": [
    "numbers = [78,89,45,56,12,23,13,46,79,87,54,21,98,65,32,10]\n",
    "numbers.remove(78)\n",
    "print(\"Using Remove\",numbers)\n",
    "numbers.append(0)\n",
    "print(\"Using append\",numbers)\n",
    "numbers.pop()\n",
    "print(\"Using pop\",numbers)\n",
    "numbers.insert(0,78)\n",
    "print(\"Using insert\",numbers)\n",
    "numbers.sort()\n",
    "print(\"Using sort\",numbers)\n",
    "print(\"Using max\",max(numbers))\n",
    "print(\"Using min\",min(numbers))\n",
    "numbers.extend([1,2,3,4,5,6,78,9])\n",
    "print(\"usind extend\",numbers)"
   ]
  },
  {
   "cell_type": "code",
   "execution_count": 43,
   "id": "a71248dc-4c65-4920-9cd0-0394ae5e82b3",
   "metadata": {},
   "outputs": [
    {
     "name": "stdout",
     "output_type": "stream",
     "text": [
      "user_1 win\n",
      "user_2 wins\n",
      "match Draw\n",
      "user_1 win\n",
      "user_2 wins\n"
     ]
    }
   ],
   "source": [
    "# dice game \n",
    "import random\n",
    "\n",
    "def dice():\n",
    "    for i in range(5):\n",
    "        user_1 = random.randint(1,6)\n",
    "        user_2 = random.randrange(1,7)\n",
    "        if user_1 == user_2:\n",
    "            print(\"match Draw\")\n",
    "        elif user_1 > user_2:\n",
    "            print(\"user_1 win\")\n",
    "        elif user_1 < user_2:\n",
    "            print(\"user_2 wins\")\n",
    "        else :\n",
    "            exit()\n",
    "\n",
    "dice()\n",
    "        \n",
    "        \n",
    "\n",
    "\n"
   ]
  },
  {
   "cell_type": "code",
   "execution_count": 64,
   "id": "0a0bd1a7-533f-4b6f-9d48-4ddbceed5c6d",
   "metadata": {},
   "outputs": [
    {
     "name": "stdout",
     "output_type": "stream",
     "text": [
      "random: 0.932 uniform :  2.744\n",
      "random: 0.248 uniform :  2.738\n",
      "random: 0.231 uniform :  1.2\n",
      "random: 0.305 uniform :  2.53\n",
      "random: 0.115 uniform :  1.872\n",
      "random: 0.806 uniform :  2.897\n",
      "random: 0.823 uniform :  2.58\n",
      "random: 0.251 uniform :  2.951\n",
      "random: 0.605 uniform :  2.558\n",
      "random: 0.381 uniform :  1.567\n"
     ]
    }
   ],
   "source": [
    "import random \n",
    "for i in range(10):\n",
    "    a= random.random()\n",
    "    a = round(a,3)\n",
    "    b= random.uniform(1,3)\n",
    "    b = round(b,3)\n",
    "    print(\"random:\" , a ,\"uniform : \", b)\n",
    "    "
   ]
  },
  {
   "cell_type": "code",
   "execution_count": 68,
   "id": "fad519b0-c395-4277-b948-f9ed39123366",
   "metadata": {},
   "outputs": [
    {
     "name": "stdout",
     "output_type": "stream",
     "text": [
      "56\n",
      "[7889, 623, 45, 56, 56, 1, 12, 78, 5, 5, 0, 4, 23]\n"
     ]
    }
   ],
   "source": [
    "import random \n",
    "list1 = [45,56,78,12,23,56,4,5,7889,5,623,1,0]\n",
    "\n",
    "a = random.choice(list1)\n",
    "print(a)\n",
    "\n",
    "random.shuffle(list1)\n",
    "print(list1)"
   ]
  },
  {
   "cell_type": "code",
   "execution_count": 81,
   "id": "6c91831b-8250-4b1f-9813-a4f53f77c6bb",
   "metadata": {},
   "outputs": [
    {
     "name": "stdout",
     "output_type": "stream",
     "text": [
      "head\n",
      "tail\n",
      "tail\n",
      "head\n",
      "tail\n"
     ]
    }
   ],
   "source": [
    "# toss coin \n",
    "for i in range(5):\n",
    "    toss = random.randint(0,1)\n",
    "    if toss == 0 :\n",
    "        print(\"head\")\n",
    "    else:\n",
    "        print(\"tail\")\n",
    "\n"
   ]
  },
  {
   "cell_type": "code",
   "execution_count": 85,
   "id": "10476bfb-d266-4098-b520-5a0a6e147133",
   "metadata": {},
   "outputs": [
    {
     "name": "stdout",
     "output_type": "stream",
     "text": [
      "sohan\n"
     ]
    }
   ],
   "source": [
    "# pay the bill in restron\n",
    "\n",
    "pay_bill = random.randint(1,5)\n",
    "if pay_bill == 1 :\n",
    "    print(\"Rohan\")\n",
    "elif pay_bill == 2 :\n",
    "    print(\"sohan\")\n",
    "elif pay_bill == 3 :\n",
    "    print(\"tohan\")\n",
    "elif pay_bill == 4 :\n",
    "    print(\"kohan\")\n",
    "else:\n",
    "    print(\"Mohan\")\n",
    "\n",
    "\n",
    "\n",
    "\n",
    "\n",
    "          "
   ]
  },
  {
   "cell_type": "code",
   "execution_count": 3,
   "id": "6823295b-3b3d-4cb7-97d7-cdbc9b956f6b",
   "metadata": {},
   "outputs": [
    {
     "name": "stdin",
     "output_type": "stream",
     "text": [
      "Enter name as a sepreted commas :  a,v,f,c\n"
     ]
    },
    {
     "name": "stdout",
     "output_type": "stream",
     "text": [
      "the Bill is pay by v\n"
     ]
    }
   ],
   "source": [
    "# same question , but this time take a name as a input \n",
    "import random\n",
    "Name = input(\"Enter name as a sepreted commas : \")\n",
    "Name = Name.split(\",\")\n",
    "member = len(Name)\n",
    "\n",
    "toss = random.randint(1,member-1)\n",
    "\n",
    "who_will_pay = Name[toss]\n",
    "print(f\"the Bill is pay by {who_will_pay}\")\n",
    "\n",
    "             "
   ]
  },
  {
   "cell_type": "code",
   "execution_count": 6,
   "id": "39d356c2-c5dd-4777-97aa-d8a418e1ade7",
   "metadata": {},
   "outputs": [
    {
     "name": "stdout",
     "output_type": "stream",
     "text": [
      "[1, 2, 4, [5, 6, 7, 8, 9, 6, 'Ram'], 78, 56, 45, 12, 23, 56, 89, 78, 45, 12, 65, 89, 45, 89, 78, 56, 1, 22, 3]\n",
      "Ram\n",
      "[65, 12, 45, 78, 89, 56, 23, 12, 45, 56, 78, [5, 6, 7, 8, 9, 6, 'Ram'], 4, 2, 1]\n"
     ]
    }
   ],
   "source": [
    "list = [1,2,4,[5,6,7,8,9,6,\"Ram\"],78,56,45,12,23,56,89,78,45,12,65] \n",
    "list_2 = [89,45,89,78,56,1,22,3]\n",
    "list_3 = list + list_2\n",
    "print(list_3)\n",
    "\n",
    "print(list[3][-1])\n",
    "print(list[::-1]) # reversed \n"
   ]
  },
  {
   "cell_type": "code",
   "execution_count": 5,
   "id": "1742aa09-e5a9-45de-bc89-312f3356178f",
   "metadata": {},
   "outputs": [
    {
     "name": "stdout",
     "output_type": "stream",
     "text": [
      "['😡', '😡', '😡']\n",
      "['😡', '😡', '😡']\n",
      "['😡', '😡', '😡']\n"
     ]
    },
    {
     "name": "stdin",
     "output_type": "stream",
     "text": [
      "Enter the place where you want to hide the money :  12\n"
     ]
    },
    {
     "name": "stdout",
     "output_type": "stream",
     "text": [
      "['😡', ' X', '😡']\n",
      "['😡', '😡', '😡']\n",
      "['😡', '😡', '😡']\n"
     ]
    }
   ],
   "source": [
    "### Hide Money \n",
    "row0 = [\"😡\",\"😡\",\"😡\"]\n",
    "row1 = [\"😡\",\"😡\",\"😡\"]\n",
    "row2 = [\"😡\",\"😡\",\"😡\"]\n",
    "matrix = [row0,row1,row2]\n",
    "\n",
    "print(f\"{row0}\\n{row1}\\n{row2}\")\n",
    "\n",
    "hide_money = input(\"Enter the place where you want to hide the money : \")\n",
    "row = int(hide_money[0])\n",
    "column = int(hide_money[1])\n",
    "\n",
    "place_to_hide = matrix[row -1]\n",
    "place_to_hide[column - 1 ] = \" X\"\n",
    "\n",
    "print(f\"{row0}\\n{row1}\\n{row2}\")\n",
    "\n",
    "\n",
    "\n"
   ]
  },
  {
   "cell_type": "code",
   "execution_count": 3,
   "id": "a9cd9e6b-92fc-4798-83e1-931e13dfc68b",
   "metadata": {},
   "outputs": [
    {
     "name": "stdin",
     "output_type": "stream",
     "text": [
      "Enter the Name :  rv\n",
      "Choose what your choose \n",
      " 0 = Rock \n",
      " 1 = paper \n",
      " 2 = Scissor  \n",
      " Select One :     1\n"
     ]
    },
    {
     "name": "stdout",
     "output_type": "stream",
     "text": [
      "1\n",
      "----------------rv win---------------------\n",
      "\n"
     ]
    },
    {
     "name": "stdin",
     "output_type": "stream",
     "text": [
      "Choose what your choose \n",
      " 0 = Rock \n",
      " 1 = paper \n",
      " 2 = Scissor  \n",
      " Select One :     2\n"
     ]
    },
    {
     "name": "stdout",
     "output_type": "stream",
     "text": [
      "2\n",
      "Draw\n"
     ]
    },
    {
     "name": "stdin",
     "output_type": "stream",
     "text": [
      "Choose what your choose \n",
      " 0 = Rock \n",
      " 1 = paper \n",
      " 2 = Scissor  \n",
      " Select One :     3\n"
     ]
    },
    {
     "name": "stdout",
     "output_type": "stream",
     "text": [
      "3\n",
      "----------------rv win---------------------\n",
      "\n"
     ]
    },
    {
     "name": "stdin",
     "output_type": "stream",
     "text": [
      "Choose what your choose \n",
      " 0 = Rock \n",
      " 1 = paper \n",
      " 2 = Scissor  \n",
      " Select One :     1\n"
     ]
    },
    {
     "name": "stdout",
     "output_type": "stream",
     "text": [
      "1\n",
      "computer choose 0\n",
      "------------------Computer wins-----------------\n",
      "\n"
     ]
    },
    {
     "name": "stdin",
     "output_type": "stream",
     "text": [
      "Choose what your choose \n",
      " 0 = Rock \n",
      " 1 = paper \n",
      " 2 = Scissor  \n",
      " Select One :     0\n"
     ]
    },
    {
     "name": "stdout",
     "output_type": "stream",
     "text": [
      "0\n",
      "computer choose 2\n",
      "------------------Computer wins-----------------\n",
      "\n"
     ]
    },
    {
     "name": "stdin",
     "output_type": "stream",
     "text": [
      "Choose what your choose \n",
      " 0 = Rock \n",
      " 1 = paper \n",
      " 2 = Scissor  \n",
      " Select One :     2\n"
     ]
    },
    {
     "name": "stdout",
     "output_type": "stream",
     "text": [
      "2\n",
      "computer choose 0\n",
      "------------------Computer wins-----------------\n",
      "\n"
     ]
    },
    {
     "name": "stdin",
     "output_type": "stream",
     "text": [
      "Choose what your choose \n",
      " 0 = Rock \n",
      " 1 = paper \n",
      " 2 = Scissor  \n",
      " Select One :     0\n"
     ]
    },
    {
     "name": "stdout",
     "output_type": "stream",
     "text": [
      "0\n",
      "-----------------rv win-------------------\n",
      "\n"
     ]
    },
    {
     "name": "stdin",
     "output_type": "stream",
     "text": [
      "Choose what your choose \n",
      " 0 = Rock \n",
      " 1 = paper \n",
      " 2 = Scissor  \n",
      " Select One :     q\n"
     ]
    },
    {
     "ename": "ValueError",
     "evalue": "invalid literal for int() with base 10: 'q'",
     "output_type": "error",
     "traceback": [
      "\u001b[1;31m---------------------------------------------------------------------------\u001b[0m",
      "\u001b[1;31mValueError\u001b[0m                                Traceback (most recent call last)",
      "Cell \u001b[1;32mIn[3], line 6\u001b[0m\n\u001b[0;32m      4\u001b[0m \u001b[38;5;28;01mwhile\u001b[39;00m \u001b[38;5;28;01mTrue\u001b[39;00m:\n\u001b[0;32m      5\u001b[0m         \u001b[38;5;28;01mfor\u001b[39;00m i \u001b[38;5;129;01min\u001b[39;00m \u001b[38;5;28mrange\u001b[39m(\u001b[38;5;241m5\u001b[39m):\n\u001b[1;32m----> 6\u001b[0m             user_input \u001b[38;5;241m=\u001b[39m \u001b[38;5;28;43mint\u001b[39;49m\u001b[43m(\u001b[49m\u001b[38;5;28;43minput\u001b[39;49m\u001b[43m(\u001b[49m\u001b[38;5;124;43m\"\u001b[39;49m\u001b[38;5;124;43mChoose what your choose \u001b[39;49m\u001b[38;5;130;43;01m\\n\u001b[39;49;00m\u001b[38;5;124;43m 0 = Rock \u001b[39;49m\u001b[38;5;130;43;01m\\n\u001b[39;49;00m\u001b[38;5;124;43m 1 = paper \u001b[39;49m\u001b[38;5;130;43;01m\\n\u001b[39;49;00m\u001b[38;5;124;43m 2 = Scissor  \u001b[39;49m\u001b[38;5;130;43;01m\\n\u001b[39;49;00m\u001b[38;5;124;43m Select One :    \u001b[39;49m\u001b[38;5;124;43m\"\u001b[39;49m\u001b[43m)\u001b[49m\u001b[43m)\u001b[49m\n\u001b[0;32m      7\u001b[0m             \u001b[38;5;28mprint\u001b[39m(user_input)\n\u001b[0;32m      8\u001b[0m             computer_choose \u001b[38;5;241m=\u001b[39m random\u001b[38;5;241m.\u001b[39mrandint(\u001b[38;5;241m0\u001b[39m,\u001b[38;5;241m2\u001b[39m)\n",
      "\u001b[1;31mValueError\u001b[0m: invalid literal for int() with base 10: 'q'"
     ]
    }
   ],
   "source": [
    "# create a rock paper scissor \n",
    "import random\n",
    "name = input(\"Enter the Name : \")\n",
    "\n",
    "for i in range(5):\n",
    "    user_input = int(input(\"Choose what your choose \\n 0 = Rock \\n 1 = paper \\n 2 = Scissor  \\n Select One :    \"))\n",
    "    print(user_input)\n",
    "    computer_choose = random.randint(0,2)\n",
    "\n",
    "    if user_input == computer_choose:\n",
    "        print(\"Draw\")\n",
    "    elif (user_input == 0) and ( computer_choose == 1):\n",
    "        print(f\"-----------------{name} win-------------------\\n\")\n",
    "    elif (user_input == 2) and ( computer_choose == 1):\n",
    "        print(f\"----------------{name} win--------------------\\n\")\n",
    "    elif (user_input == 0) < ( computer_choose == 2):\n",
    "        print(f\"----------------{name} win---------------------\\n\")\n",
    "    else:\n",
    "        print(f\"computer choose {computer_choose}\")\n",
    "        print(\"------------------Computer wins-----------------\\n\")\n"
   ]
  },
  {
   "cell_type": "code",
   "execution_count": 12,
   "id": "831d5e19-6d49-491d-a997-4f2f7b262925",
   "metadata": {},
   "outputs": [
    {
     "name": "stdout",
     "output_type": "stream",
     "text": [
      "{1, 2, 3, 'litchi', 4, 5, 'rishabh', 'mango', 'vaibhav', 'apple'}\n"
     ]
    },
    {
     "data": {
      "text/plain": [
       "{1, 2, 3, 4, 5, 6, 'apple', 'litchi', 'mango', 'rishabh', 'vaibhav'}"
      ]
     },
     "execution_count": 12,
     "metadata": {},
     "output_type": "execute_result"
    }
   ],
   "source": [
    "set1 = {\"apple\",\"mango\",\"litchi\",1,2,3}\n",
    "set2 = {'rishabh', 'vaibhav',2,3,4,5}\n",
    "\n",
    "z = (set1 | set2)\n",
    "print(z)\n",
    "set1.update([1,2,3,4,5,6])\n",
    "set1.union(set2)\n",
    "\n"
   ]
  },
  {
   "cell_type": "code",
   "execution_count": 15,
   "id": "19280e0f-5d00-45fc-b0de-e87c6806e593",
   "metadata": {},
   "outputs": [
    {
     "data": {
      "text/plain": [
       "{2, 3, 4, 5}"
      ]
     },
     "execution_count": 15,
     "metadata": {},
     "output_type": "execute_result"
    }
   ],
   "source": [
    "set1.intersection(set2)\n"
   ]
  },
  {
   "cell_type": "code",
   "execution_count": 16,
   "id": "570087bd-6a8d-4e56-b5c3-ffe69ec2709a",
   "metadata": {},
   "outputs": [
    {
     "data": {
      "text/plain": [
       "{2, 3, 4, 5}"
      ]
     },
     "execution_count": 16,
     "metadata": {},
     "output_type": "execute_result"
    }
   ],
   "source": [
    "set1 & set2\n"
   ]
  },
  {
   "cell_type": "code",
   "execution_count": 7,
   "id": "3b867e5c-6074-447c-a43e-abb2c93bf5a5",
   "metadata": {},
   "outputs": [
    {
     "name": "stdout",
     "output_type": "stream",
     "text": [
      "the list of square is :  [1, 25, 16, 9, 6084, 3136, 7921, 2025, 144, 9]\n"
     ]
    }
   ],
   "source": [
    "# find square of list \n",
    "\n",
    "\n",
    "numbers = [1,5,4,3,78,56,89,45,12,3]\n",
    "#  this is working with tuple and set also  no matter numbers is tuple or set or list \n",
    "\n",
    "sq = []\n",
    "for i in numbers:\n",
    "    square = i ** 2\n",
    "    sq.append(square) # there i store the data in empty list\n",
    "    \n",
    "print(\"the list of square is : \" , sq)"
   ]
  },
  {
   "cell_type": "code",
   "execution_count": 11,
   "id": "edff38f0-73dd-4798-a892-764ca93b5467",
   "metadata": {},
   "outputs": [
    {
     "name": "stdin",
     "output_type": "stream",
     "text": [
      " 10\n"
     ]
    },
    {
     "name": "stdout",
     "output_type": "stream",
     "text": [
      "invalid number\n"
     ]
    }
   ],
   "source": [
    "# f example of for else\n",
    "\n",
    "\n",
    "numbers = [1,5,4,3,78,56,89,45,12,3]\n",
    "text = int(input())\n",
    "if text in numbers:\n",
    "    print(\"exist \")\n",
    "else:\n",
    "    print(\"invalid number\")"
   ]
  },
  {
   "cell_type": "code",
   "execution_count": 1,
   "id": "0b688964-a6b0-4666-8fe2-f03c86ee4251",
   "metadata": {},
   "outputs": [
    {
     "name": "stdin",
     "output_type": "stream",
     "text": [
      "Enter any word to check tihis word is anagram or not :  eye\n"
     ]
    },
    {
     "name": "stdout",
     "output_type": "stream",
     "text": [
      "this word eye is an anagram word\n"
     ]
    }
   ],
   "source": [
    "# to check the word is anagram or not \n",
    "ana = input(\"Enter any word to check tihis word is anagram or not : \")\n",
    "\n",
    "try:\n",
    "    if ana[::] == ana[::-1]:\n",
    "        print(f\"this word {ana} is an anagram word\")\n",
    "    else:\n",
    "        print(\"invalid name \")\n",
    "except:\n",
    "    print(NameError)\n",
    "\n"
   ]
  },
  {
   "cell_type": "code",
   "execution_count": 1,
   "id": "a050fd76-019d-422b-83b3-05284e2718ff",
   "metadata": {},
   "outputs": [],
   "source": [
    "# check if number is prime or not \n",
    "\n",
    "\n",
    "\n",
    "\n",
    "\n"
   ]
  },
  {
   "cell_type": "code",
   "execution_count": 1,
   "id": "a8c04b0e-4e30-41d3-a6a3-eb2c34e1a92b",
   "metadata": {},
   "outputs": [
    {
     "name": "stdout",
     "output_type": "stream",
     "text": [
      "7\n",
      "5\n",
      "4\n",
      "8\n",
      "96\n",
      "3\n",
      "1\n",
      "2\n",
      "3\n",
      "0\n",
      "Out of the for/else \n"
     ]
    }
   ],
   "source": [
    "number = [7,5,4,8,96,3,1,2,3,0,78,45,65]\n",
    "for i in number:\n",
    "    print(i)\n",
    "    if i == 0:\n",
    "        break\n",
    "else:\n",
    "    print(\"Run sucessfully\")\n",
    "\n",
    "print(\"Out of the for/else \")"
   ]
  },
  {
   "cell_type": "code",
   "execution_count": 10,
   "id": "8b8156e4-c977-48e4-9955-ef41c8a44a4c",
   "metadata": {},
   "outputs": [
    {
     "name": "stdout",
     "output_type": "stream",
     "text": [
      "Invalid Number\n",
      "Invalid Number\n",
      "Invalid Number\n",
      "Invalid Number\n",
      "Invalid Number\n",
      "Invalid Number\n",
      "Invalid Number\n",
      "Invalid Number\n"
     ]
    }
   ],
   "source": [
    "numbers = [1,2,3,4,5,7,8,9]\n",
    "\n",
    "for number in numbers:\n",
    "    if (number % 6) == 0:\n",
    "        print(\"Number is divisible by 6 \")\n",
    "        break\n",
    "    else:\n",
    "        print(\"Invalid Number\")\n",
    "# else:\n",
    "#     print(\"There is no number divisible by 6 \")"
   ]
  },
  {
   "cell_type": "code",
   "execution_count": 13,
   "id": "15a5ee5d-6147-4da8-ab1a-6d27e25e2b1d",
   "metadata": {},
   "outputs": [
    {
     "name": "stdin",
     "output_type": "stream",
     "text": [
      "Enter the height you want to find average  1 2 3\n"
     ]
    },
    {
     "name": "stdout",
     "output_type": "stream",
     "text": [
      "6\n",
      "The Avg od the height is :  2\n"
     ]
    }
   ],
   "source": [
    "# write the program to calculate averge height from a list of heights without using sum () and len() function \n",
    "# you have to take from user input \n",
    "# round of nearest whole number \n",
    "# split you have to use \n",
    "# split \n",
    "user_input = input(\"Enter the height you want to find average \")\n",
    "user_input = user_input.split(\" \")\n",
    "length = 0\n",
    "for height in user_input:\n",
    "    length = int(length) + 1\n",
    "sum = 0\n",
    "for person in user_input:\n",
    "    sum = sum + int(person)\n",
    "print(sum)\n",
    "\n",
    "avg = sum / length\n",
    "print(\"The Avg od the height is : \" , round(avg))"
   ]
  },
  {
   "cell_type": "code",
   "execution_count": 19,
   "id": "e8fa9c8b-b093-4727-99e1-8c1721dcfd57",
   "metadata": {},
   "outputs": [
    {
     "name": "stdin",
     "output_type": "stream",
     "text": [
      "Enter the number you want :  45 78 89\n"
     ]
    },
    {
     "name": "stdout",
     "output_type": "stream",
     "text": [
      "3\n",
      "89\n"
     ]
    }
   ],
   "source": [
    "# how to find the maximum number in the list \n",
    "user_input = input(\"Enter the number you want : \")\n",
    "user_input = user_input.split(\" \")\n",
    "# 78 56 45 7 88 9 \n",
    "\n",
    "count = 0\n",
    "for i in user_input:\n",
    "    count += 1\n",
    "print(\"Total number in the list is : \" ,count)    \n",
    "\n",
    "for int_value in range(count):\n",
    "    user_input[int_value] = int(user_input[int_value])\n",
    "    \n",
    "max_num = user_input[0]\n",
    "\n",
    "for number in user_input:\n",
    "    if number < int(max_num):\n",
    "        max_num = number\n",
    "        \n",
    "print(number)\n",
    "    \n",
    "\n"
   ]
  },
  {
   "cell_type": "code",
   "execution_count": 1,
   "id": "5e1b7a2a-b32c-420e-903a-7b47b1c85e01",
   "metadata": {},
   "outputs": [
    {
     "data": {
      "text/plain": [
       "77"
      ]
     },
     "execution_count": 1,
     "metadata": {},
     "output_type": "execute_result"
    }
   ],
   "source": [
    "77"
   ]
  },
  {
   "cell_type": "code",
   "execution_count": 2,
   "id": "841ba34b-c4e6-422f-a492-e2e1db5bcae7",
   "metadata": {},
   "outputs": [
    {
     "name": "stdout",
     "output_type": "stream",
     "text": [
      "\n",
      "L2 Select\n",
      "L1 Selected-Rejected by client\n",
      "HR Scheduled\n",
      "Profile rejected by client\n",
      "L1 Scheduled\n",
      "Client Select-drop out\n",
      "High Expectation\n",
      "Position hold\n",
      "Duplicate\n",
      "L1 Selected-HR Scheduled-Position lost\n",
      "Profile Rejected by client\n",
      "Profile rejected by client-High ECTC\n",
      "Joined\n",
      "L1 Select-drop out\n",
      "L1 Select-Profile reject by client\n",
      "L2 Selected-rejected by client\n",
      "screen rejected\n",
      "L1 Select-Drop out\n",
      "HR Select\n",
      "L1 Select-High ECTC\n",
      "Position closed\n",
      "L1 Reject\n",
      "Profile reject by client\n",
      "Reject(Face to face interview) \n",
      "L1 rejected\n",
      "shared\n",
      "HR done\n",
      "Hold\n",
      "...\n",
      "L1 select\n",
      "L3 Rejected\n",
      "Position Closed\n",
      "HR Select-Drop out\n",
      "Profile Reject\n",
      "client Interview Reject\n",
      "L2 Feedback Pending\n",
      "Client Reject\n",
      "Client round reject\n",
      "Client Interview reject\n",
      "L2 Select-Profile reject by client\n",
      "Screen Reject-High ECTC\n",
      "L1 Select-Position closed\n",
      "L1 Select\n",
      "Screen rejected\n",
      "L1 Selected-less exp-Rejected-Joined another organization\n",
      "L1 Selected\n",
      "L1 Rejected\n",
      "L2 Select-Client interview reject\n",
      "Position lost\n",
      "Joined-Dublicate-Atish\n",
      "L2 FP\n",
      "Offer Accepted\n",
      "screenig\f",
      "p\n",
      "HR Selected-Rejected by client\n",
      "Shared\n",
      "L1 Scheduled-Position closed\n",
      "client Rejected\n",
      "HR Select-Position hold\n",
      "Profile Select-got an offer-drop out\n",
      "L1 Select-Positon closed\n",
      "L2 Reject\n",
      "L1 rejected-Joined another organization\n",
      "L1 Selected-Profile rejected by client\n",
      "L1 drop\n",
      "Shared \n",
      "L2 Rejected\n",
      "L2 done\n",
      "HR Selected\n"
     ]
    }
   ],
   "source": [
    "# Provided data\n",
    "data = \"\"\"\n",
    "Status\n",
    "L1 drop\n",
    "L1 drop\n",
    "L1 drop\n",
    "L2 Select\n",
    "L1 drop\n",
    "L1 drop\n",
    "L1 drop\n",
    "L1 drop\n",
    "L1 drop\n",
    "L1 drop\n",
    "L1 rejected\n",
    "L1 drop\n",
    "L1 drop\n",
    "L1 drop\n",
    "Position lost\n",
    "L1 drop\n",
    "L1 drop\n",
    "L1 rejected\n",
    "L1 drop\n",
    "L1 drop\n",
    "L1 drop\n",
    "Position lost\n",
    "Position lost\n",
    "L1 Selected\n",
    "L1 drop\n",
    "L1 drop\n",
    "L1 drop\n",
    "L1 drop\n",
    "L1 drop\n",
    "L1 rejected\n",
    "L1 drop\n",
    "L2 Rejected\n",
    "L1 drop\n",
    "L1 rejected\n",
    "L1 drop\n",
    "Joined\n",
    "HR Select\n",
    "L1 drop\n",
    "L1 rejected\n",
    "L1 drop\n",
    "L1 rejected\n",
    "L1 drop\n",
    "L1 drop\n",
    "L1 drop\n",
    "L1 drop\n",
    "L1 drop\n",
    "L1 drop\n",
    "L1 drop\n",
    "HR Select\n",
    "L1 drop\n",
    "L1 rejected\n",
    "L1 drop\n",
    "Position lost\n",
    "Position lost\n",
    "L1 drop\n",
    "L1 drop\n",
    "L1 drop\n",
    "L1 drop\n",
    "Position lost\n",
    "Position lost\n",
    "HR Select\n",
    "HR Scheduled\n",
    "L1 drop\n",
    "L1 rejected\n",
    "L1 drop\n",
    "L1 drop\n",
    "Position lost\n",
    "L1 rejected\n",
    "Position lost\n",
    "Position lost\n",
    "Position lost\n",
    "Position lost\n",
    "Position lost\n",
    "Position lost\n",
    "Position lost\n",
    "Position lost\n",
    "L1 rejected\n",
    "L1 rejected\n",
    "Position lost\n",
    "Position lost\n",
    "Position lost\n",
    "L1 drop\n",
    "L2 Rejected\n",
    "L2 Rejected\n",
    "L2 Rejected\n",
    "L1 drop\n",
    "HR Select\n",
    "HR Select\n",
    "Position lost\n",
    "L2 Select\n",
    "L1 rejected\n",
    "L1 rejected\n",
    "L1 rejected\n",
    "L1 drop\n",
    "L1 rejected\n",
    "L1 drop\n",
    "L1 rejected\n",
    "L1 drop\n",
    "L1 rejected\n",
    "L1 rejected\n",
    "L1 drop\n",
    "L1 drop\n",
    "L2 Rejected\n",
    "L1 drop\n",
    "L1 rejected\n",
    "L1 drop\n",
    "L2 Rejected\n",
    "L1 drop\n",
    "L1 rejected\n",
    "HR Selected-Rejected by client\n",
    "Position lost\n",
    "Position lost\n",
    "L1 drop\n",
    "L1 drop\n",
    "L1 drop\n",
    "Position lost\n",
    "HR Selected-Rejected by client\n",
    "Position lost\n",
    "L1 rejected\n",
    "L1 rejected\n",
    "L1 rejected\n",
    "L1 drop\n",
    "L1 rejected\n",
    "L2 Selected-rejected by client\n",
    "HR Select\n",
    "L1 rejected\n",
    "L1 rejected\n",
    "L1 rejected\n",
    "L1 rejected\n",
    "HR Selected-Rejected by client\n",
    "L1 drop\n",
    "Position lost\n",
    "L1 drop\n",
    "Position lost\n",
    "HR Selected-Rejected by client\n",
    "L1 drop\n",
    "L1 rejected\n",
    "L1 drop\n",
    "Joined-Dublicate-Atish\n",
    "HR Selected\n",
    "L1 drop\n",
    "L1 rejected\n",
    "L1 rejected\n",
    "L1 rejected\n",
    "L1 drop\n",
    "L1 rejected\n",
    "L2 Select\n",
    "L1 drop\n",
    "L2 Select\n",
    "L1 rejected\n",
    "L1 drop\n",
    "L1 drop\n",
    "L1 rejected\n",
    "Joined\n",
    "L2 Select\n",
    "L1 rejected\n",
    "L1 rejected\n",
    "L1 Select\n",
    "L1 drop\n",
    "L1 Select\n",
    "L1 drop\n",
    "screen rejected\n",
    "L1 rejected\n",
    "L2 Rejected\n",
    "L1 rejected\n",
    "L1 drop\n",
    "L1 drop\n",
    "L1 rejected\n",
    "L1 rejected\n",
    "L1 rejected\n",
    "L1 drop\n",
    "L1 rejected\n",
    "L1 rejected\n",
    "L1 drop\n",
    "L1 rejected\n",
    "screenig\\fp\n",
    "L1 drop\n",
    "L1 drop\n",
    "L1 rejected\n",
    "L1 drop\n",
    "L1 rejected\n",
    "L1 rejected\n",
    "L1 drop\n",
    "L1 drop\n",
    "L1 drop\n",
    "Position lost\n",
    "Position lost\n",
    "Position lost\n",
    "L1 rejected\n",
    "L1 drop\n",
    "L2 Rejected\n",
    "L1 drop\n",
    "L1 drop\n",
    "L1 drop\n",
    "L1 rejected\n",
    "Position lost\n",
    "Position lost\n",
    "screenig\\fp\n",
    "L1 drop\n",
    "High Expectation\n",
    "Position lost\n",
    "Position lost\n",
    "L1 rejected\n",
    "L1 rejected\n",
    "L1 drop\n",
    "L1 drop\n",
    "L1 rejected\n",
    "L1 rejected\n",
    "Position lost\n",
    "L1 Selected-Rejected by client\n",
    "L1 rejected\n",
    "L2 Rejected\n",
    "L2 Rejected\n",
    "L1 rejected\n",
    "HR Selected-Rejected by client\n",
    "L1 drop\n",
    "L1 drop\n",
    "L1 rejected\n",
    "L1 rejected\n",
    "L1 rejected\n",
    "L1 drop\n",
    "L1 drop\n",
    "HR Selected-Rejected by client\n",
    "L1 rejected\n",
    "L1 rejected\n",
    "L1 drop\n",
    "L1 drop\n",
    "Position lost\n",
    "L1 drop\n",
    "L1 drop\n",
    "Screen rejected\n",
    "L1 rejected\n",
    "L1 rejected\n",
    "L1 drop\n",
    "L2 Rejected\n",
    "L1 rejected\n",
    "L1 rejected\n",
    "L1 rejected\n",
    "L1 drop\n",
    "L1 rejected\n",
    "L1 rejected\n",
    "L1 rejected\n",
    "L1 rejected\n",
    "Joined\n",
    "L1 drop\n",
    "L1 drop\n",
    "L1 drop\n",
    "L1 rejected\n",
    "L1 rejected\n",
    "Screen rejected\n",
    "Position closed\n",
    "Screen rejected\n",
    "L1 rejected\n",
    "Position closed\n",
    "L2 Select\n",
    "L1 Selected-HR Scheduled-Position lost\n",
    "L1 drop\n",
    "L1 rejected\n",
    "L1 drop\n",
    "L1 drop\n",
    "L1 drop\n",
    "L1 drop\n",
    "L1 drop\n",
    "L1 rejected\n",
    "L1 drop\n",
    "L1 drop\n",
    "L1 drop\n",
    "L1 drop\n",
    "L1 drop\n",
    "L1 rejected\n",
    "L1 drop\n",
    "L1 rejected\n",
    "L1 rejected\n",
    "L1 rejected\n",
    "L1 rejected\n",
    "L1 drop\n",
    "L1 drop\n",
    "L1 drop\n",
    "L1 drop\n",
    "L1 drop\n",
    "L2 Rejected\n",
    "Screen rejected\n",
    "L1 rejected\n",
    "L1 rejected\n",
    "L1 rejected\n",
    "L1 rejected\n",
    "L1 rejected\n",
    "Position lost\n",
    "Position lost\n",
    "HR Select\n",
    "L1 rejected\n",
    "L1 drop\n",
    "L1 drop\n",
    "Position lost\n",
    "L1 drop\n",
    "Screen rejected\n",
    "L1 rejected\n",
    "L1 drop\n",
    "Position lost\n",
    "L1 drop\n",
    "L1 rejected\n",
    "L1 Select\n",
    "L1 drop\n",
    "L1 rejected\n",
    "L1 drop\n",
    "L1 rejected\n",
    "L1 drop\n",
    "L1 rejected\n",
    "L1 rejected\n",
    "L1 drop\n",
    "L1 rejected\n",
    "L2 Select\n",
    "Screen rejected\n",
    "L1 Select\n",
    "L1 drop\n",
    "L1 rejected\n",
    "L1 drop\n",
    "L1 drop\n",
    "L1 rejected\n",
    "L1 rejected\n",
    "Position lost\n",
    "L1 rejected\n",
    "L1 Selected-Profile rejected by client\n",
    "L1 rejected\n",
    "L1 rejected\n",
    "Position lost\n",
    "L2 Select\n",
    "Screen rejected\n",
    "L1 drop\n",
    "L1 drop\n",
    "Position lost\n",
    "Position lost\n",
    "Screen rejected\n",
    "L1 select\n",
    "L1 rejected\n",
    "L1 drop\n",
    "Position lost\n",
    "L1 drop\n",
    "L1 rejected\n",
    "L1 Selected-less exp-Rejected-Joined another organization\n",
    "L1 Select\n",
    "Position lost\n",
    "Position lost\n",
    "Position lost\n",
    "Position lost\n",
    "Screen rejected\n",
    "L2 Select\n",
    "L1 drop\n",
    "L1 drop\n",
    "L1 rejected\n",
    "L1 rejected\n",
    "L1 rejected\n",
    "L1 drop\n",
    "L1 rejected\n",
    "L1 drop\n",
    "L1 drop\n",
    "L1 drop\n",
    "L1 drop\n",
    "Shared \n",
    "Shared\n",
    "L1 rejected\n",
    "L1 drop\n",
    "Shared\n",
    "L1 drop\n",
    "L1 drop\n",
    "L1 drop\n",
    "L1 drop\n",
    "L1 rejected\n",
    "L1 Select\n",
    "Shared\n",
    "L1 drop\n",
    "L1 Select\n",
    "L1 drop\n",
    "Screen rejected\n",
    "L1 drop\n",
    "L1 rejected\n",
    "L1 rejected\n",
    "L1 rejected\n",
    "L1 rejected\n",
    "L1 rejected\n",
    "client Rejected\n",
    "screenig\\fp\n",
    "Shared\n",
    "L1 rejected-Joined another organization\n",
    "Shared\n",
    "L1 rejected\n",
    "L1 drop\n",
    "Position closed\n",
    "Shared\n",
    "Shared\n",
    "L1 drop\n",
    "Position closed\n",
    "Position closed\n",
    "Profile rejected by client\n",
    "Profile rejected by client\n",
    "L1 drop\n",
    "L1 rejected\n",
    "L1 rejected\n",
    "L1 rejected\n",
    "Position lost\n",
    "L2 Rejected\n",
    "Profile rejected by client\n",
    "Profile rejected by client\n",
    "L1 drop\n",
    "L1 drop\n",
    "L1 Select\n",
    "L1 rejected\n",
    "L1 drop\n",
    "L1 drop\n",
    "Profile rejected by client-High ECTC\n",
    "Joined\n",
    "L1 drop\n",
    "L1 rejected\n",
    "Shared\n",
    "Shared\n",
    "L1 drop\n",
    "Position closed\n",
    "Position closed\n",
    "L1 Scheduled-Position closed\n",
    "Shared\n",
    "L1 drop\n",
    "Shared\n",
    "L1 rejected\n",
    "L1 drop\n",
    "L2 Rejected\n",
    "L1 drop\n",
    "L1 Rejected\n",
    "Shared\n",
    "L1 drop\n",
    "L2 done\n",
    "L2 Rejected\n",
    "Client round reject\n",
    "L1 drop\n",
    "L1 Rejected\n",
    "L1 drop\n",
    "Shared\n",
    "Shared\n",
    "L1 drop\n",
    "L1 Rejected\n",
    "L1 drop\n",
    "L1 drop\n",
    "L1 Rejected\n",
    "L1 Rejected\n",
    "L3 Rejected\n",
    "L1 Select\n",
    "Screen rejected\n",
    "L1 rejected\n",
    "L1 Select\n",
    "L1 drop\n",
    "L1 drop\n",
    "L1 drop\n",
    "L1 drop\n",
    "L2 Reject\n",
    "L1 Select\n",
    "Screen rejected\n",
    "Screen rejected\n",
    "L1 drop\n",
    "Screen rejected\n",
    "L1 drop\n",
    "L1 drop\n",
    "L1 drop\n",
    "HR Scheduled\n",
    "Position closed\n",
    "Position closed\n",
    "L1 drop\n",
    "L2 Reject\n",
    "L1 Rejected\n",
    "L1 drop\n",
    "L1 drop\n",
    "Position closed\n",
    "L1 drop\n",
    "L1 drop\n",
    "L1 drop\n",
    "Position hold\n",
    "L1 Rejected\n",
    "L1 Rejected\n",
    "L1 drop\n",
    "L1 drop\n",
    "L1 drop\n",
    "shared\n",
    "Position closed\n",
    "shared\n",
    "L2 Select\n",
    "L1 Rejected\n",
    "L1 drop\n",
    "Joined\n",
    "L1 Rejected\n",
    "HR Select\n",
    "Position Closed\n",
    "L1 Select\n",
    "L1 Select\n",
    "Joined\n",
    "L1 drop\n",
    "L1 drop\n",
    "L1 Rejected\n",
    "L1 Rejected\n",
    "L1 Rejected\n",
    "L1 Rejected\n",
    "shared\n",
    "L1 drop\n",
    "Position Closed\n",
    "Position Closed\n",
    "Position Closed\n",
    "L1 Rejected\n",
    "L1 drop\n",
    "L1 drop\n",
    "L1 Rejected\n",
    "client Rejected\n",
    "Position Closed\n",
    "HR Select\n",
    "shared\n",
    "L1 Rejected\n",
    "L1 drop\n",
    "L1 Rejected\n",
    "L1 Rejected\n",
    "L1 drop\n",
    "L1 Rejected\n",
    "L1 drop\n",
    "L1 drop\n",
    "shared\n",
    "shared\n",
    "shared\n",
    "L1 drop\n",
    "Position Closed\n",
    "L1 Rejected\n",
    "L1 Rejected\n",
    "Position Closed\n",
    "L1 select\n",
    "L1 drop\n",
    "L1 drop\n",
    "Position Closed\n",
    "L1 drop\n",
    "Position Closed\n",
    "L1 Rejected\n",
    "HR done\n",
    "L1 select\n",
    "L1 Rejected\n",
    "Position Closed\n",
    "L1 Rejected\n",
    "L1 Rejected\n",
    "L1 drop\n",
    "Position Closed\n",
    "L1 Rejected\n",
    "L1 drop\n",
    "L1 drop\n",
    "L1 Rejected\n",
    "Position Closed\n",
    "L1 Rejected\n",
    "Position Closed\n",
    "Position Closed\n",
    "L1 select\n",
    "L2 Reject\n",
    "L2 Select-Profile reject by client\n",
    "L1 Rejected\n",
    "L1 drop\n",
    "Position Closed\n",
    "Position Closed\n",
    "L1 Rejected\n",
    "L1 Rejected\n",
    "L1 drop\n",
    "Position Closed\n",
    "L2 Reject\n",
    "L2 Reject\n",
    "L1 drop\n",
    "L1 drop\n",
    "Profile Rejected by client\n",
    "L2 Reject\n",
    "Position Closed\n",
    "Position Closed\n",
    "Position Closed\n",
    "Position Closed\n",
    "Profile Rejected by client\n",
    "Profile Rejected by client\n",
    "Position Closed\n",
    "L1 drop\n",
    "L1 drop\n",
    "Shared\n",
    "L1 Rejected\n",
    "L1 Rejected\n",
    "Position Closed\n",
    "L1 drop\n",
    "L1 drop\n",
    "Position Closed\n",
    "L2 Reject\n",
    "Client Reject\n",
    "L1 Rejected\n",
    "L1 drop\n",
    "L1 drop\n",
    "L1 drop\n",
    "L2 Select-Client interview reject\n",
    "L1 Select-High ECTC\n",
    "Screen Reject-High ECTC\n",
    "L1 Rejected\n",
    "L1 Rejected\n",
    "L2 Select-Profile reject by client\n",
    "L1 drop\n",
    "Shared\n",
    "Position Closed\n",
    "Position Closed\n",
    "Position Closed\n",
    "Position Closed\n",
    "L1 drop\n",
    "L1 Rejected\n",
    "Shared\n",
    "L1 drop\n",
    "Position Closed\n",
    "L1 drop\n",
    "L2 Reject\n",
    "L1 drop\n",
    "shared\n",
    "L1 drop\n",
    "L2 Reject\n",
    "L1 drop\n",
    "L2 Reject\n",
    "L1 drop\n",
    "L2 Reject\n",
    "L1 drop\n",
    "L2 Reject\n",
    "Position Closed\n",
    "L1 drop\n",
    "L1 drop\n",
    "L1 drop\n",
    "L1 Select-drop out\n",
    "L1 drop\n",
    "Hold\n",
    "Hold\n",
    "L1 drop\n",
    "L1 drop\n",
    "L1 drop\n",
    "L1 Select-Profile reject by client\n",
    "L1 drop\n",
    "L1 drop\n",
    "Hold\n",
    "L2 Reject\n",
    "Position Closed\n",
    "L1 Reject\n",
    "Position Closed\n",
    "L1 Reject\n",
    "L1 drop\n",
    "Position closed\n",
    "L1 drop\n",
    "L1 drop\n",
    "HR Select-Position hold\n",
    "L1 Reject\n",
    "L1 drop\n",
    "L1 drop\n",
    "Hold\n",
    "Reject(Face to face interview) \n",
    "Client Interview reject\n",
    "Client Interview reject\n",
    "Profile reject by client\n",
    "Profile reject by client\n",
    "L1 Reject\n",
    "L1 Reject\n",
    "L2 Reject\n",
    "client Interview Reject\n",
    "Position Closed\n",
    "L1 Reject\n",
    "Profile reject by client\n",
    "L1 drop\n",
    "Profile reject by client\n",
    "L1 drop\n",
    "Shared\n",
    "Shared\n",
    "Shared\n",
    "L1 drop\n",
    "L1 Reject\n",
    "High Expectation\n",
    "L2 Select\n",
    "L1 Reject\n",
    "L1 drop\n",
    "L1 Reject\n",
    "Hold\n",
    "L1 drop\n",
    "Position Closed\n",
    "shared\n",
    "Profile reject by client\n",
    "Profile reject by client\n",
    "Position Closed\n",
    "L1 drop\n",
    "HR Select\n",
    "Joined\n",
    "L1 drop\n",
    "Position Closed\n",
    "L1 drop\n",
    "Profile Select-got an offer-drop out\n",
    "shared\n",
    "L1 drop\n",
    "L1 Reject\n",
    "HR Select\n",
    "L1 Select\n",
    "Profile reject by client\n",
    "L1 drop\n",
    "L1 Reject\n",
    "screenig\\fp\n",
    "Profile reject by client\n",
    "Profile reject by client\n",
    "Position Closed\n",
    "L1 drop\n",
    "Profile reject by client\n",
    "Profile reject by client\n",
    "screenig\\fp\n",
    "L1 Reject\n",
    "Position Closed\n",
    "Joined\n",
    "screenig\\fp\n",
    "L1 drop\n",
    "L1 drop\n",
    "L1 drop\n",
    "L1 drop\n",
    "Joined\n",
    "L1 drop\n",
    "L1 Reject\n",
    "L1 drop\n",
    "Position Closed\n",
    "screenig\\fp\n",
    "Position Closed\n",
    "L1 drop\n",
    "Client Select-drop out\n",
    "Client Reject\n",
    "L1 drop\n",
    "L1 Select-Drop out\n",
    "Position Closed\n",
    "L2 Feedback Pending\n",
    "Position Closed\n",
    "Position Closed\n",
    "L1 Reject\n",
    "Position hold\n",
    "screenig\\fp\n",
    "L1 Reject\n",
    "Position Closed\n",
    "L2 Reject\n",
    "Position Closed\n",
    "Position Closed\n",
    "L1 drop\n",
    "Position Closed\n",
    "L1 Reject\n",
    "shared\n",
    "shared\n",
    "Position Closed\n",
    "shared\n",
    "L1 drop\n",
    "Position Closed\n",
    "L1 drop\n",
    "L2 Reject\n",
    "L1 Reject\n",
    "L1 drop\n",
    "screenig\\fp\n",
    "Position Closed\n",
    "Position Closed\n",
    "shared\n",
    "screenig\\fp\n",
    "Position closed\n",
    "Position closed\n",
    "L1 drop\n",
    "L1 drop\n",
    "screenig\\fp\n",
    "shared\n",
    "Position closed\n",
    "L2 FP\n",
    "HR Select-Drop out\n",
    "screenig\\fp\n",
    "shared\n",
    "shared\n",
    "Profile reject by client\n",
    "shared\n",
    "shared\n",
    "L1 Reject\n",
    "Offer Accepted\n",
    "screenig\\fp\n",
    "Position closed\n",
    "Position closed\n",
    "L1 Reject\n",
    "Position closed\n",
    "L1 drop\n",
    "L1 drop\n",
    "L1 Reject\n",
    "L1 drop\n",
    "L2 Reject\n",
    "HR Select\n",
    "shared\n",
    "HR Select\n",
    "L1 Reject\n",
    "shared\n",
    "L1 drop\n",
    "L1 Reject\n",
    "Profile Reject\n",
    "L1 Reject\n",
    "L1 drop\n",
    "shared\n",
    "shared\n",
    "L2 Reject\n",
    "L1 Scheduled\n",
    "screenig\\fp\n",
    "shared\n",
    "L1 drop\n",
    "L1 drop\n",
    "L1 drop\n",
    "L1 Scheduled\n",
    "shared\n",
    "L1 Reject\n",
    "screenig\\fp\n",
    "screenig\\fp\n",
    "L1 Reject\n",
    "L2 Reject\n",
    "L1 drop\n",
    "Status\n",
    "L1 drop\n",
    "Profile reject by client\n",
    "Position closed\n",
    "L1 Select-Positon closed\n",
    "Position closed\n",
    "L1 Reject\n",
    "L1 Reject\n",
    "shared\n",
    "shared\n",
    "L1 Reject\n",
    "Joined\n",
    "L1 Reject\n",
    "L1 Reject\n",
    "L1 Select-Position closed\n",
    "Position closed\n",
    "shared\n",
    "L1 Reject\n",
    "Profile reject by client\n",
    "Duplicate\n",
    "\n",
    "...\n",
    "\"\"\"\n",
    "\n",
    "# Split the data into lines and remove empty lines\n",
    "lines = data.strip().split('\\n')\n",
    "\n",
    "# Create a set to store unique names\n",
    "unique_names = set()\n",
    "\n",
    "# Iterate through each line and add it to the set if it's not a status\n",
    "for line in lines:\n",
    "    if line != \"Status\":\n",
    "        unique_names.add(line)\n",
    "\n",
    "# Convert the set to a list to maintain the order\n",
    "unique_names_list = list(unique_names)\n",
    "\n",
    "# Print the unique names\n",
    "for name in unique_names_list:\n",
    "    print(name)\n"
   ]
  },
  {
   "cell_type": "code",
   "execution_count": 4,
   "id": "2ecbb1d8-65ca-454e-971d-7107e9d79687",
   "metadata": {},
   "outputs": [
    {
     "name": "stdout",
     "output_type": "stream",
     "text": [
      "ScreenFP\n",
      "ScreenReject\n",
      "ScreenSelect\n",
      "L1interviewFP\n",
      "L1Select\n",
      "L1Reject\n",
      "L2interviewFP\n",
      "L2Select\n",
      "L2Hold\n",
      "L2Reject\n",
      "ClientScreeningFP\n",
      "ClientScreeningReject\n",
      "ClientL1InterviewFP\n",
      "ClientL1Reject\n",
      "ClientL2InterviewFP\n",
      "ClientkeptonHold\n",
      "ClientL2Reject\n",
      "ClientFinalSelect\n",
      "Drop\n",
      "Offered\n",
      "OfferDeclined\n",
      "Joined\n",
      "Absconded\n"
     ]
    }
   ],
   "source": [
    "# Sample data2\n",
    "data2 = [\n",
    "    'Screen FP',\n",
    "    'Screen Reject',\n",
    "    'Screen Select',\n",
    "    'L1 interview FP',\n",
    "    'L1 Select',\n",
    "    'L1 Reject',\n",
    "    'L2 interview FP',\n",
    "    'L2 Select',\n",
    "    'L2 Hold',\n",
    "    'L2 Reject',\n",
    "    'Client Screening FP',\n",
    "    'Client Screening Reject',\n",
    "    'Client L1 Interview FP',\n",
    "    'Client L1 Reject',\n",
    "    'Client L2 Interview FP',\n",
    "    'Client kept on Hold',\n",
    "    'Client L2 Reject',\n",
    "    'Client Final Select',\n",
    "    'Drop',\n",
    "    'Offered',\n",
    "    'Offer Declined',\n",
    "    'Joined',\n",
    "    'Absconded'\n",
    "]\n",
    "\n",
    "# Remove spaces from each value in data2\n",
    "data2_without_spaces = [value.replace(\" \", \"\") for value in data2]\n",
    "\n",
    "# Print the updated data2\n",
    "for value in data2_without_spaces:\n",
    "    print(value)\n"
   ]
  },
  {
   "cell_type": "code",
   "execution_count": null,
   "id": "d6ae01b1-dd11-4bcf-8c4e-dbad7d75cf32",
   "metadata": {},
   "outputs": [],
   "source": []
  }
 ],
 "metadata": {
  "kernelspec": {
   "display_name": "Python 3 (ipykernel)",
   "language": "python",
   "name": "python3"
  },
  "language_info": {
   "codemirror_mode": {
    "name": "ipython",
    "version": 3
   },
   "file_extension": ".py",
   "mimetype": "text/x-python",
   "name": "python",
   "nbconvert_exporter": "python",
   "pygments_lexer": "ipython3",
   "version": "3.11.4"
  }
 },
 "nbformat": 4,
 "nbformat_minor": 5
}
