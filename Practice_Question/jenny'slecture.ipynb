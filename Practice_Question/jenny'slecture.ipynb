{
 "cells": [
  {
   "cell_type": "code",
   "execution_count": 1,
   "id": "cbb5366a-bca0-4988-8915-7fd945a9cf2c",
   "metadata": {},
   "outputs": [],
   "source": [
    "# check and clear all the concept of bitwise operators\n"
   ]
  },
  {
   "cell_type": "code",
   "execution_count": 2,
   "id": "168374b4-2c11-40f1-8d75-2e218098b8d4",
   "metadata": {},
   "outputs": [
    {
     "data": {
      "text/plain": [
       "79"
      ]
     },
     "execution_count": 2,
     "metadata": {},
     "output_type": "execute_result"
    }
   ],
   "source": [
    "a = 78.54654548\n",
    "round(a)"
   ]
  },
  {
   "cell_type": "code",
   "execution_count": 3,
   "id": "f78c9422-09c3-4d96-b1e5-b893e1e34511",
   "metadata": {},
   "outputs": [
    {
     "data": {
      "text/plain": [
       "78.55"
      ]
     },
     "execution_count": 3,
     "metadata": {},
     "output_type": "execute_result"
    }
   ],
   "source": [
    "round(a,2)"
   ]
  },
  {
   "cell_type": "code",
   "execution_count": 4,
   "id": "c2090954-8e3a-4eaa-9b22-5c928b311c32",
   "metadata": {},
   "outputs": [
    {
     "data": {
      "text/plain": [
       "78.54655"
      ]
     },
     "execution_count": 4,
     "metadata": {},
     "output_type": "execute_result"
    }
   ],
   "source": [
    "round(a,5)"
   ]
  },
  {
   "cell_type": "code",
   "execution_count": 6,
   "id": "86325a50-abd7-481f-812f-a33fe4ca320e",
   "metadata": {},
   "outputs": [],
   "source": [
    "# task"
   ]
  },
  {
   "cell_type": "code",
   "execution_count": 12,
   "id": "33c75a78-c5d2-4037-a9ae-d6b35ff83258",
   "metadata": {},
   "outputs": [
    {
     "name": "stdin",
     "output_type": "stream",
     "text": [
      "Enter yout corrent age  45\n"
     ]
    },
    {
     "name": "stdout",
     "output_type": "stream",
     "text": [
      " you have 45 year , 540 month and 16425 days left to live \n"
     ]
    }
   ],
   "source": [
    "# how many days, weeks and month , we have left if we have live until 19 year old \n",
    "current_age = int(input(\"Enter yout corrent age \"))\n",
    "\n",
    "\n",
    "\n",
    "\n",
    "years_left = 90  - current_age\n",
    "\n",
    "month_left = years_left * 12 \n",
    "\n",
    "days_left = years_left * 365 \n",
    "\n",
    "print(f\" you have {years_left} year , {month_left} month and {days_left} days left to live \")\n",
    "\n",
    "\n",
    "\n",
    "\n",
    "\n",
    "\n",
    "\n",
    "\n"
   ]
  },
  {
   "cell_type": "code",
   "execution_count": 13,
   "id": "a255e1fa-1b05-4168-b6bb-f28f5baa0346",
   "metadata": {},
   "outputs": [
    {
     "name": "stdout",
     "output_type": "stream",
     "text": [
      "i get the apple \n"
     ]
    }
   ],
   "source": [
    "# buy something from super market\n",
    "\n",
    "# super_market_fruit = sms\n",
    "smf = [\"apple\",\"mango\",\"litchi\"]\n",
    "\n",
    "# left_packt = lp\n",
    "lp = [1,2,3]\n",
    "\n",
    "if \"apple\" in smf:\n",
    "    if 2 in lp:\n",
    "        print(\"i get the apple \")\n",
    "    else:\n",
    "        pass\n",
    "elif tomato in smf:\n",
    "    print(\"i buy the tomato\")\n",
    "\n",
    "else:\n",
    "    print(\"return home \")"
   ]
  },
  {
   "cell_type": "code",
   "execution_count": 8,
   "id": "55340cc7-31f2-4231-a7c9-a3955cff5877",
   "metadata": {},
   "outputs": [
    {
     "name": "stdin",
     "output_type": "stream",
     "text": [
      "Enter the weight in kg :  56\n",
      "Enter the height in ft :  45\n"
     ]
    },
    {
     "name": "stdout",
     "output_type": "stream",
     "text": [
      "my body mass index is 14.0 which is : under Weight\n"
     ]
    }
   ],
   "source": [
    "# Find BMI then check is basic categories\n",
    "def find_bmi():\n",
    "    \n",
    "    weight = int(input(\"Enter the weight in kg : \"))\n",
    "    height_in_feet = float(input(\"Enter the height in ft : \"))\n",
    "    height_in_meter = height_in_feet * 0.3048\n",
    "    bmi = weight / (height ** 2)\n",
    "    \n",
    "    if bmi < 18.5:\n",
    "        print(f\"my body mass index is {bmi} which is : under Weight\")\n",
    "    elif bmi == 18.5 or bmi < 25:\n",
    "        print(f\"my body mass index is {bmi} which is : Normal \")\n",
    "    else : \n",
    "        print(f\"my body mass index is {bmi} which is : Over weight \")\n",
    "\n",
    "find_bmi()\n",
    "                   \n",
    "\n"
   ]
  },
  {
   "cell_type": "code",
   "execution_count": 13,
   "id": "815e4453-5405-496d-b0ae-5ac3ae4946f1",
   "metadata": {},
   "outputs": [
    {
     "name": "stdin",
     "output_type": "stream",
     "text": [
      "Enter the year you want to check , leap year or not :  2004\n"
     ]
    },
    {
     "name": "stdout",
     "output_type": "stream",
     "text": [
      "2004 year is leap year \n"
     ]
    }
   ],
   "source": [
    "# check leap year or not \n",
    "year = int(input(\"Enter the year you want to check , leap year or not : \"))\n",
    "\n",
    "if (year % 4) == 0:\n",
    "    print(f\"{year} year is leap year \")\n",
    "else:\n",
    "    print(\"this is not a leap year \")"
   ]
  },
  {
   "cell_type": "code",
   "execution_count": 4,
   "id": "758c1f7e-6a43-4c7a-8d90-b6f6231663b6",
   "metadata": {},
   "outputs": [
    {
     "name": "stdin",
     "output_type": "stream",
     "text": [
      " 45\n"
     ]
    },
    {
     "name": "stdout",
     "output_type": "stream",
     "text": [
      "a\n",
      "None\n"
     ]
    }
   ],
   "source": [
    "a = 89\n",
    "b = int(input())\n",
    "\n",
    "if a > b :\n",
    "    print(\"a\")\n",
    "if a < b :\n",
    "    print(\"b\")\n",
    "if a == b :\n",
    "    print(\"None\")\n",
    "if a > b :\n",
    "    print(\"None\")"
   ]
  },
  {
   "cell_type": "code",
   "execution_count": 7,
   "id": "6eb87b4e-4602-444d-a439-3ed4ed44b15c",
   "metadata": {},
   "outputs": [
    {
     "name": "stdin",
     "output_type": "stream",
     "text": [
      "Enter the age you want 13\n",
      "Number of photo you clicked :  10\n"
     ]
    },
    {
     "name": "stdout",
     "output_type": "stream",
     "text": [
      "snap cost is  :  100\n",
      "150\n"
     ]
    }
   ],
   "source": [
    "age = int(input(\"Enter the age you want\"))\n",
    "photo = int(input(\"Number of photo you clicked : \"))\n",
    "snap_price = 10 * photo\n",
    "\n",
    "if age >=  0  :\n",
    "    print(\"snap cost is  : \"  , snap_price)\n",
    "if age <14 :\n",
    "    print(50 + snap_price)\n",
    "elif age < 18:\n",
    "    print(150 + snap_price)\n",
    "elif age < 25:\n",
    "    print(250 + snap_price)\n",
    "else :\n",
    "    print(350 + snap_price)\n"
   ]
  },
  {
   "cell_type": "code",
   "execution_count": 3,
   "id": "b60359a1-e910-40ab-9906-0b923daa6b9b",
   "metadata": {},
   "outputs": [
    {
     "name": "stdin",
     "output_type": "stream",
     "text": [
      "Enter the height ?  4\n"
     ]
    },
    {
     "name": "stdout",
     "output_type": "stream",
     "text": [
      "you can ride  \n"
     ]
    },
    {
     "name": "stdin",
     "output_type": "stream",
     "text": [
      "Enter the age :  25\n"
     ]
    },
    {
     "name": "stdout",
     "output_type": "stream",
     "text": [
      "ticket price is 500\n"
     ]
    },
    {
     "name": "stdin",
     "output_type": "stream",
     "text": [
      "if you want to click the photo click Y / N Y\n"
     ]
    },
    {
     "name": "stdout",
     "output_type": "stream",
     "text": [
      "The bill amount is : 550\n"
     ]
    }
   ],
   "source": [
    "# same above question but this time the logic is different \n",
    "\n",
    "height = int(input(\"Enter the height ? \"))\n",
    "\n",
    "if height >= 3:\n",
    "    print(\"you can ride  \")\n",
    "    \n",
    "    age = int(input(\"Enter the age : \"))\n",
    "    if age < 12 :\n",
    "        bill = 150\n",
    "        print(\"ticket price is 150\")\n",
    "    elif age <= 18 :\n",
    "        bill = 250\n",
    "        print(\"ticket price is 250\")\n",
    "    else :\n",
    "        bill = 500\n",
    "        print(\"ticket price is 500\")\n",
    "        \n",
    "    photo = input(\"if you want to click the photo click Y / N\")\n",
    "    if photo == \"y\" or photo == \"Y\":\n",
    "        bill = bill + 50\n",
    "        print(f\"The bill amount is : {bill}\")\n",
    "else :\n",
    "    print(\"can't Ride \")\n",
    "    \n"
   ]
  },
  {
   "cell_type": "code",
   "execution_count": 1,
   "id": "cd748d6e-9595-4ed0-b0c8-6a0f2f7b35a8",
   "metadata": {},
   "outputs": [
    {
     "name": "stdin",
     "output_type": "stream",
     "text": [
      "Enter the size you want S/M/L :   l\n"
     ]
    },
    {
     "name": "stdout",
     "output_type": "stream",
     "text": [
      "you choose large pizza \n"
     ]
    },
    {
     "name": "stdin",
     "output_type": "stream",
     "text": [
      "if want to add peperroni enter Y / N  y\n"
     ]
    },
    {
     "name": "stdout",
     "output_type": "stream",
     "text": [
      "Your current cost is 380\n"
     ]
    },
    {
     "name": "stdin",
     "output_type": "stream",
     "text": [
      "you want extra cheese :Y / N n\n"
     ]
    },
    {
     "name": "stdout",
     "output_type": "stream",
     "text": [
      "Your current pizza Cost is 380\n"
     ]
    }
   ],
   "source": [
    "# pizza order program \n",
    "\n",
    "size = input(\"Enter the size you want S/M/L :  \")\n",
    "\n",
    "if size == \"s\" or size == \"S\":\n",
    "    cost = 100\n",
    "    print(\"you choose small pizza \")\n",
    "elif size == \"m\" or size == \"M\":\n",
    "    cost = 200\n",
    "    print(\"you choose medium pizza \")\n",
    "elif size == \"l\" or size == \"L\":\n",
    "    cost = 300\n",
    "    print(\"you choose large pizza \")\n",
    "else:\n",
    "    print(\"Invalid Entry \")\n",
    "    exit()\n",
    "\n",
    "addon = input(\"if want to add peperroni enter Y / N \")\n",
    "\n",
    "if addon == \"y\" or addon ==\"Y\":\n",
    "    if cost == 100:\n",
    "         cost = cost + 30\n",
    "         print(f\"Your current cost is {cost}\")\n",
    "    elif cost == 200:\n",
    "         cost = cost + 50\n",
    "         print(f\"Your current cost is {cost}\")\n",
    "    elif cost == 300:\n",
    "         cost = cost + 80\n",
    "         print(f\"Your current cost is {cost}\")\n",
    "    else: \n",
    "        pass\n",
    "cheese = input(\"you want extra cheese :Y / N\")   \n",
    "if cheese == \"y\" or cheese == \"Y\":\n",
    "    cost = cost + 20\n",
    "\n",
    "else:\n",
    "    pass\n",
    "print(f\"Your current pizza Cost is {cost}\")\n"
   ]
  },
  {
   "cell_type": "code",
   "execution_count": 2,
   "id": "ce306176-cdac-43a1-9ae0-2cb4d13de149",
   "metadata": {},
   "outputs": [],
   "source": [
    "#"
   ]
  },
  {
   "cell_type": "code",
   "execution_count": 17,
   "id": "81cc9a83-0c00-4fa0-ba67-e18a5372d30c",
   "metadata": {},
   "outputs": [
    {
     "name": "stdout",
     "output_type": "stream",
     "text": [
      "Using Remove [89, 45, 56, 12, 23, 13, 46, 79, 87, 54, 21, 98, 65, 32, 10]\n",
      "Using append [89, 45, 56, 12, 23, 13, 46, 79, 87, 54, 21, 98, 65, 32, 10, 0]\n",
      "Using pop [89, 45, 56, 12, 23, 13, 46, 79, 87, 54, 21, 98, 65, 32, 10]\n",
      "Using insert [78, 89, 45, 56, 12, 23, 13, 46, 79, 87, 54, 21, 98, 65, 32, 10]\n",
      "Using sort [10, 12, 13, 21, 23, 32, 45, 46, 54, 56, 65, 78, 79, 87, 89, 98]\n",
      "Using max 98\n",
      "Using min 10\n",
      "usind extend [10, 12, 13, 21, 23, 32, 45, 46, 54, 56, 65, 78, 79, 87, 89, 98, 1, 2, 3, 4, 5, 6, 78, 9]\n"
     ]
    }
   ],
   "source": [
    "numbers = [78,89,45,56,12,23,13,46,79,87,54,21,98,65,32,10]\n",
    "numbers.remove(78)\n",
    "print(\"Using Remove\",numbers)\n",
    "numbers.append(0)\n",
    "print(\"Using append\",numbers)\n",
    "numbers.pop()\n",
    "print(\"Using pop\",numbers)\n",
    "numbers.insert(0,78)\n",
    "print(\"Using insert\",numbers)\n",
    "numbers.sort()\n",
    "print(\"Using sort\",numbers)\n",
    "print(\"Using max\",max(numbers))\n",
    "print(\"Using min\",min(numbers))\n",
    "numbers.extend([1,2,3,4,5,6,78,9])\n",
    "print(\"usind extend\",numbers)"
   ]
  },
  {
   "cell_type": "code",
   "execution_count": 43,
   "id": "a71248dc-4c65-4920-9cd0-0394ae5e82b3",
   "metadata": {},
   "outputs": [
    {
     "name": "stdout",
     "output_type": "stream",
     "text": [
      "user_1 win\n",
      "user_2 wins\n",
      "match Draw\n",
      "user_1 win\n",
      "user_2 wins\n"
     ]
    }
   ],
   "source": [
    "# dice game \n",
    "import random\n",
    "\n",
    "def dice():\n",
    "    for i in range(5):\n",
    "        user_1 = random.randint(1,6)\n",
    "        user_2 = random.randrange(1,7)\n",
    "        if user_1 == user_2:\n",
    "            print(\"match Draw\")\n",
    "        elif user_1 > user_2:\n",
    "            print(\"user_1 win\")\n",
    "        elif user_1 < user_2:\n",
    "            print(\"user_2 wins\")\n",
    "        else :\n",
    "            exit()\n",
    "\n",
    "dice()\n",
    "        \n",
    "        \n",
    "\n",
    "\n"
   ]
  },
  {
   "cell_type": "code",
   "execution_count": 64,
   "id": "0a0bd1a7-533f-4b6f-9d48-4ddbceed5c6d",
   "metadata": {},
   "outputs": [
    {
     "name": "stdout",
     "output_type": "stream",
     "text": [
      "random: 0.932 uniform :  2.744\n",
      "random: 0.248 uniform :  2.738\n",
      "random: 0.231 uniform :  1.2\n",
      "random: 0.305 uniform :  2.53\n",
      "random: 0.115 uniform :  1.872\n",
      "random: 0.806 uniform :  2.897\n",
      "random: 0.823 uniform :  2.58\n",
      "random: 0.251 uniform :  2.951\n",
      "random: 0.605 uniform :  2.558\n",
      "random: 0.381 uniform :  1.567\n"
     ]
    }
   ],
   "source": [
    "import random \n",
    "for i in range(10):\n",
    "    a= random.random()\n",
    "    a = round(a,3)\n",
    "    b= random.uniform(1,3)\n",
    "    b = round(b,3)\n",
    "    print(\"random:\" , a ,\"uniform : \", b)\n",
    "    "
   ]
  },
  {
   "cell_type": "code",
   "execution_count": 68,
   "id": "fad519b0-c395-4277-b948-f9ed39123366",
   "metadata": {},
   "outputs": [
    {
     "name": "stdout",
     "output_type": "stream",
     "text": [
      "56\n",
      "[7889, 623, 45, 56, 56, 1, 12, 78, 5, 5, 0, 4, 23]\n"
     ]
    }
   ],
   "source": [
    "import random \n",
    "list1 = [45,56,78,12,23,56,4,5,7889,5,623,1,0]\n",
    "\n",
    "a = random.choice(list1)\n",
    "print(a)\n",
    "\n",
    "random.shuffle(list1)\n",
    "print(list1)"
   ]
  },
  {
   "cell_type": "code",
   "execution_count": 81,
   "id": "6c91831b-8250-4b1f-9813-a4f53f77c6bb",
   "metadata": {},
   "outputs": [
    {
     "name": "stdout",
     "output_type": "stream",
     "text": [
      "head\n",
      "tail\n",
      "tail\n",
      "head\n",
      "tail\n"
     ]
    }
   ],
   "source": [
    "# toss coin \n",
    "for i in range(5):\n",
    "    toss = random.randint(0,1)\n",
    "    if toss == 0 :\n",
    "        print(\"head\")\n",
    "    else:\n",
    "        print(\"tail\")\n",
    "\n"
   ]
  },
  {
   "cell_type": "code",
   "execution_count": 85,
   "id": "10476bfb-d266-4098-b520-5a0a6e147133",
   "metadata": {},
   "outputs": [
    {
     "name": "stdout",
     "output_type": "stream",
     "text": [
      "sohan\n"
     ]
    }
   ],
   "source": [
    "# pay the bill in restron\n",
    "\n",
    "pay_bill = random.randint(1,5)\n",
    "if pay_bill == 1 :\n",
    "    print(\"Rohan\")\n",
    "elif pay_bill == 2 :\n",
    "    print(\"sohan\")\n",
    "elif pay_bill == 3 :\n",
    "    print(\"tohan\")\n",
    "elif pay_bill == 4 :\n",
    "    print(\"kohan\")\n",
    "else:\n",
    "    print(\"Mohan\")\n",
    "\n",
    "\n",
    "\n",
    "\n",
    "\n",
    "          "
   ]
  },
  {
   "cell_type": "code",
   "execution_count": 114,
   "id": "6823295b-3b3d-4cb7-97d7-cdbc9b956f6b",
   "metadata": {},
   "outputs": [
    {
     "name": "stdin",
     "output_type": "stream",
     "text": [
      "Enter name as a sepreted commas :  a,b,c,d\n"
     ]
    },
    {
     "name": "stdout",
     "output_type": "stream",
     "text": [
      "the Bill is pay by b\n"
     ]
    },
    {
     "name": "stdin",
     "output_type": "stream",
     "text": [
      "Enter name as a sepreted commas :  a,b,c,d\n"
     ]
    },
    {
     "name": "stdout",
     "output_type": "stream",
     "text": [
      "the Bill is pay by b\n"
     ]
    },
    {
     "name": "stdin",
     "output_type": "stream",
     "text": [
      "Enter name as a sepreted commas :  a,b,c,d\n"
     ]
    },
    {
     "name": "stdout",
     "output_type": "stream",
     "text": [
      "the Bill is pay by d\n"
     ]
    },
    {
     "name": "stdin",
     "output_type": "stream",
     "text": [
      "Enter name as a sepreted commas :  a,b,c,d\n"
     ]
    },
    {
     "name": "stdout",
     "output_type": "stream",
     "text": [
      "the Bill is pay by c\n"
     ]
    },
    {
     "name": "stdin",
     "output_type": "stream",
     "text": [
      "Enter name as a sepreted commas :  a,b,c,d\n"
     ]
    },
    {
     "name": "stdout",
     "output_type": "stream",
     "text": [
      "the Bill is pay by d\n"
     ]
    },
    {
     "name": "stdin",
     "output_type": "stream",
     "text": [
      "Enter name as a sepreted commas :  \n"
     ]
    },
    {
     "ename": "ValueError",
     "evalue": "empty range for randrange() (1, 1, 0)",
     "output_type": "error",
     "traceback": [
      "\u001b[1;31m---------------------------------------------------------------------------\u001b[0m",
      "\u001b[1;31mValueError\u001b[0m                                Traceback (most recent call last)",
      "Cell \u001b[1;32mIn[114], line 7\u001b[0m\n\u001b[0;32m      4\u001b[0m Name \u001b[38;5;241m=\u001b[39m Name\u001b[38;5;241m.\u001b[39msplit(\u001b[38;5;124m\"\u001b[39m\u001b[38;5;124m,\u001b[39m\u001b[38;5;124m\"\u001b[39m)\n\u001b[0;32m      5\u001b[0m member \u001b[38;5;241m=\u001b[39m \u001b[38;5;28mlen\u001b[39m(Name)\n\u001b[1;32m----> 7\u001b[0m toss \u001b[38;5;241m=\u001b[39m \u001b[43mrandom\u001b[49m\u001b[38;5;241;43m.\u001b[39;49m\u001b[43mrandint\u001b[49m\u001b[43m(\u001b[49m\u001b[38;5;241;43m1\u001b[39;49m\u001b[43m,\u001b[49m\u001b[43mmember\u001b[49m\u001b[38;5;241;43m-\u001b[39;49m\u001b[38;5;241;43m1\u001b[39;49m\u001b[43m)\u001b[49m\n\u001b[0;32m      9\u001b[0m who_will_pay \u001b[38;5;241m=\u001b[39m Name[toss]\n\u001b[0;32m     10\u001b[0m \u001b[38;5;28mprint\u001b[39m(\u001b[38;5;124mf\u001b[39m\u001b[38;5;124m\"\u001b[39m\u001b[38;5;124mthe Bill is pay by \u001b[39m\u001b[38;5;132;01m{\u001b[39;00mwho_will_pay\u001b[38;5;132;01m}\u001b[39;00m\u001b[38;5;124m\"\u001b[39m)\n",
      "File \u001b[1;32m~\\AppData\\Local\\Programs\\Python\\Python311\\Lib\\random.py:362\u001b[0m, in \u001b[0;36mRandom.randint\u001b[1;34m(self, a, b)\u001b[0m\n\u001b[0;32m    358\u001b[0m \u001b[38;5;28;01mdef\u001b[39;00m \u001b[38;5;21mrandint\u001b[39m(\u001b[38;5;28mself\u001b[39m, a, b):\n\u001b[0;32m    359\u001b[0m \u001b[38;5;250m    \u001b[39m\u001b[38;5;124;03m\"\"\"Return random integer in range [a, b], including both end points.\u001b[39;00m\n\u001b[0;32m    360\u001b[0m \u001b[38;5;124;03m    \"\"\"\u001b[39;00m\n\u001b[1;32m--> 362\u001b[0m     \u001b[38;5;28;01mreturn\u001b[39;00m \u001b[38;5;28;43mself\u001b[39;49m\u001b[38;5;241;43m.\u001b[39;49m\u001b[43mrandrange\u001b[49m\u001b[43m(\u001b[49m\u001b[43ma\u001b[49m\u001b[43m,\u001b[49m\u001b[43m \u001b[49m\u001b[43mb\u001b[49m\u001b[38;5;241;43m+\u001b[39;49m\u001b[38;5;241;43m1\u001b[39;49m\u001b[43m)\u001b[49m\n",
      "File \u001b[1;32m~\\AppData\\Local\\Programs\\Python\\Python311\\Lib\\random.py:345\u001b[0m, in \u001b[0;36mRandom.randrange\u001b[1;34m(self, start, stop, step)\u001b[0m\n\u001b[0;32m    343\u001b[0m     \u001b[38;5;28;01mif\u001b[39;00m width \u001b[38;5;241m>\u001b[39m \u001b[38;5;241m0\u001b[39m:\n\u001b[0;32m    344\u001b[0m         \u001b[38;5;28;01mreturn\u001b[39;00m istart \u001b[38;5;241m+\u001b[39m \u001b[38;5;28mself\u001b[39m\u001b[38;5;241m.\u001b[39m_randbelow(width)\n\u001b[1;32m--> 345\u001b[0m     \u001b[38;5;28;01mraise\u001b[39;00m \u001b[38;5;167;01mValueError\u001b[39;00m(\u001b[38;5;124m\"\u001b[39m\u001b[38;5;124mempty range for randrange() (\u001b[39m\u001b[38;5;132;01m%d\u001b[39;00m\u001b[38;5;124m, \u001b[39m\u001b[38;5;132;01m%d\u001b[39;00m\u001b[38;5;124m, \u001b[39m\u001b[38;5;132;01m%d\u001b[39;00m\u001b[38;5;124m)\u001b[39m\u001b[38;5;124m\"\u001b[39m \u001b[38;5;241m%\u001b[39m (istart, istop, width))\n\u001b[0;32m    347\u001b[0m \u001b[38;5;66;03m# Non-unit step argument supplied.\u001b[39;00m\n\u001b[0;32m    348\u001b[0m \u001b[38;5;28;01mif\u001b[39;00m istep \u001b[38;5;241m>\u001b[39m \u001b[38;5;241m0\u001b[39m:\n",
      "\u001b[1;31mValueError\u001b[0m: empty range for randrange() (1, 1, 0)"
     ]
    }
   ],
   "source": [
    "# same question , but this time take a name as a input \n",
    "while True:\n",
    "    Name = input(\"Enter name as a sepreted commas : \")\n",
    "    Name = Name.split(\",\")\n",
    "    member = len(Name)\n",
    "    \n",
    "    toss = random.randint(1,member-1)\n",
    "    \n",
    "    who_will_pay = Name[toss]\n",
    "    print(f\"the Bill is pay by {who_will_pay}\")\n",
    "\n",
    "             "
   ]
  },
  {
   "cell_type": "code",
   "execution_count": 115,
   "id": "39d356c2-c5dd-4777-97aa-d8a418e1ade7",
   "metadata": {},
   "outputs": [
    {
     "name": "stdout",
     "output_type": "stream",
     "text": [
      "Ram\n",
      "[65, 12, 45, 78, 89, 56, 23, 12, 45, 56, 78, [5, 6, 7, 8, 9, 6, 'Ram'], 4, 2, 1]\n"
     ]
    }
   ],
   "source": [
    "list = [1,2,4,[5,6,7,8,9,6,\"Ram\"],78,56,45,12,23,56,89,78,45,12,65] \n",
    "\n",
    "print(list[3][-1])\n",
    "print(list[::-1]) # reversed \n"
   ]
  },
  {
   "cell_type": "code",
   "execution_count": null,
   "id": "586a799b-c636-41e2-bb09-2e7102b41eec",
   "metadata": {},
   "outputs": [],
   "source": []
  }
 ],
 "metadata": {
  "kernelspec": {
   "display_name": "Python 3 (ipykernel)",
   "language": "python",
   "name": "python3"
  },
  "language_info": {
   "codemirror_mode": {
    "name": "ipython",
    "version": 3
   },
   "file_extension": ".py",
   "mimetype": "text/x-python",
   "name": "python",
   "nbconvert_exporter": "python",
   "pygments_lexer": "ipython3",
   "version": "3.11.4"
  }
 },
 "nbformat": 4,
 "nbformat_minor": 5
}
