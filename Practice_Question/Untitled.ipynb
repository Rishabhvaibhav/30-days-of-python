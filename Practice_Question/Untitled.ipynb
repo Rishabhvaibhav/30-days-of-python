{
 "cells": [
  {
   "cell_type": "code",
   "execution_count": 1,
   "id": "462f6e12-cc13-4ea4-a6c5-bfae58847277",
   "metadata": {},
   "outputs": [
    {
     "data": {
      "text/plain": [
       "'\\n1. Reverse a string.\\n2. Check if a string is a palindrome.\\n3. Calculate the factorial of a number.\\n4. Find the largest element in a list.\\n5. Count the occurrence of a specific character in a string.\\n6. Remove duplicates from a list.\\n7. Sort a list of numbers in ascending order.\\n8. Find the square root of a number.\\n9. Check if a number is prime.\\n10. Concatenate two strings.\\n11. Convert a string to lowercase.\\n12. Replace all occurrences of a character in a string.\\n13. Generate a list of all prime numbers up to a given limit.\\n14. Calculate the sum of all elements in a list.\\n15. Find the minimum element in a list.\\n16. Calculate the power of a number (exponentiation).\\n17. Find the length of a string.\\n18. Check if a list is empty.\\n19. Check if a number is even or odd.\\n20. Calculate the area of a rectangle.\\n'"
      ]
     },
     "execution_count": 1,
     "metadata": {},
     "output_type": "execute_result"
    }
   ],
   "source": [
    "\"\"\"\n",
    "1. Reverse a string.\n",
    "2. Check if a string is a palindrome.\n",
    "3. Calculate the factorial of a number.\n",
    "4. Find the largest element in a list.\n",
    "5. Count the occurrence of a specific character in a string.\n",
    "6. Remove duplicates from a list.\n",
    "7. Sort a list of numbers in ascending order.\n",
    "8. Find the square root of a number.\n",
    "9. Check if a number is prime.\n",
    "10. Concatenate two strings.\n",
    "11. Convert a string to lowercase.\n",
    "12. Replace all occurrences of a character in a string.\n",
    "13. Generate a list of all prime numbers up to a given limit.\n",
    "14. Calculate the sum of all elements in a list.\n",
    "15. Find the minimum element in a list.\n",
    "16. Calculate the power of a number (exponentiation).\n",
    "17. Find the length of a string.\n",
    "18. Check if a list is empty.\n",
    "19. Check if a number is even or odd.\n",
    "20. Calculate the area of a rectangle.\n",
    "\"\"\"\n"
   ]
  },
  {
   "cell_type": "code",
   "execution_count": 2,
   "id": "3609ddfb-1062-4c5a-b9d9-74dc78946280",
   "metadata": {},
   "outputs": [
    {
     "data": {
      "text/plain": [
       "'hbahsiR'"
      ]
     },
     "execution_count": 2,
     "metadata": {},
     "output_type": "execute_result"
    }
   ],
   "source": [
    "# 1. Reverse a string.\n",
    "def reverse(n):\n",
    "    n = n[::-1]\n",
    "    return n \n",
    "reverse(\"Rishabh\")"
   ]
  },
  {
   "cell_type": "code",
   "execution_count": 3,
   "id": "497ecbd1-10f5-4f80-a7f6-3cf8550989d7",
   "metadata": {},
   "outputs": [
    {
     "name": "stdin",
     "output_type": "stream",
     "text": [
      "Enter any word to check this is palidrome or not zzz\n"
     ]
    },
    {
     "name": "stdout",
     "output_type": "stream",
     "text": [
      "this word is the palindrome\n"
     ]
    }
   ],
   "source": [
    "# 2. Check if a string is a palindrome.\n",
    "def pali(str):\n",
    "    if str[::-1] == str[0::] :\n",
    "         print(\"this word is the palindrome\")\n",
    "    else:\n",
    "         print(\"This word is not a palindrome\")\n",
    "           \n",
    "\n",
    "str = input(\"Enter any word to check this is palidrome or not\" )\n",
    "pali(str)\n"
   ]
  },
  {
   "cell_type": "code",
   "execution_count": 4,
   "id": "7e9dc292-f36a-49c6-9035-af874839d705",
   "metadata": {},
   "outputs": [
    {
     "ename": "NameError",
     "evalue": "name 'n' is not defined",
     "output_type": "error",
     "traceback": [
      "\u001b[1;31m---------------------------------------------------------------------------\u001b[0m",
      "\u001b[1;31mNameError\u001b[0m                                 Traceback (most recent call last)",
      "Cell \u001b[1;32mIn[4], line 8\u001b[0m\n\u001b[0;32m      5\u001b[0m     \u001b[38;5;28;01melse\u001b[39;00m :\n\u001b[0;32m      6\u001b[0m         n \u001b[38;5;241m=\u001b[39m n \u001b[38;5;241m*\u001b[39m (n\u001b[38;5;241m-\u001b[39m\u001b[38;5;241m1\u001b[39m)\n\u001b[1;32m----> 8\u001b[0m \u001b[38;5;28;01mfor\u001b[39;00m i \u001b[38;5;129;01min\u001b[39;00m \u001b[43mn\u001b[49m :\n\u001b[0;32m      9\u001b[0m     n \u001b[38;5;241m=\u001b[39m n \u001b[38;5;241m-\u001b[39m i \n",
      "\u001b[1;31mNameError\u001b[0m: name 'n' is not defined"
     ]
    }
   ],
   "source": [
    "# 3. Calculate the factorial of a number.\n",
    "def factorial_number(n):\n",
    "    if n == 0 and n == 1 :\n",
    "        return 1\n",
    "    else :\n",
    "        n = n * (n-1)\n",
    "\n",
    "for i in n :\n",
    "    n = n - i \n",
    "\n",
    "\n"
   ]
  },
  {
   "cell_type": "code",
   "execution_count": null,
   "id": "c003ad35-9f41-4a4b-a01b-4f3d76d2dc75",
   "metadata": {},
   "outputs": [],
   "source": [
    "# 4. Find the largest element in a list.\n",
    "def max_list(list):\n",
    "     list = [1,2,3,4,5,6,7,8,9,9,78,45,56,89,12,23,4,556,7,88,94,55,6,12,12,23,64,6,46,4,9,65,56,56,89,7,946,5,]\n",
    "     max_num = max(list)\n",
    "     return max_num\n",
    "\n",
    "max_list(list)"
   ]
  },
  {
   "cell_type": "code",
   "execution_count": 13,
   "id": "e7485985-0a3d-4d83-9aeb-5a866b4a9856",
   "metadata": {},
   "outputs": [
    {
     "data": {
      "text/plain": [
       "7"
      ]
     },
     "execution_count": 13,
     "metadata": {},
     "output_type": "execute_result"
    }
   ],
   "source": [
    "# 5. Count the occurrence of a specific character in a string.\n",
    "\n",
    "\n",
    "\n",
    "\n",
    "\n",
    "\n",
    "\n"
   ]
  },
  {
   "cell_type": "code",
   "execution_count": 14,
   "id": "8621bf07-700a-42f1-b492-2e030e601d96",
   "metadata": {},
   "outputs": [
    {
     "data": {
      "text/plain": [
       "7"
      ]
     },
     "execution_count": 14,
     "metadata": {},
     "output_type": "execute_result"
    }
   ],
   "source": [
    "\n",
    "# count the char of string with len function \n",
    "def count(str):\n",
    "    str = \"Rishabh\"\n",
    "    count_str = len(str)\n",
    "    return count_str\n",
    "\n",
    "count(str)"
   ]
  },
  {
   "cell_type": "code",
   "execution_count": 18,
   "id": "65a37998-f854-4fca-9b27-49ff7c62cc07",
   "metadata": {},
   "outputs": [
    {
     "name": "stdin",
     "output_type": "stream",
     "text": [
      "enter the number  rishabhb\n"
     ]
    },
    {
     "name": "stdout",
     "output_type": "stream",
     "text": [
      "8\n"
     ]
    }
   ],
   "source": [
    "\n",
    "# count the char without using len func\n",
    "def withoutlen(name):\n",
    "    \n",
    "    name = input(\"enter the number \")\n",
    "    a = 0\n",
    "    for i in name:\n",
    "        a = a+1\n",
    "    return a\n",
    "        \n",
    "xyz = withoutlen(name)\n",
    "print(xyz)\n",
    "\n"
   ]
  },
  {
   "cell_type": "code",
   "execution_count": null,
   "id": "c73176de-7158-4ea2-8c97-7966e26c9900",
   "metadata": {},
   "outputs": [],
   "source": [
    "for i in range(5):"
   ]
  },
  {
   "cell_type": "code",
   "execution_count": null,
   "id": "841842a5-4b02-4ea3-aabb-fffe6c491573",
   "metadata": {},
   "outputs": [],
   "source": [
    "# 6. Remove duplicates from a list.\n",
    "\n",
    "list = [1,2,33,444,44,444,33,2,11,1,7,8,9,0,10]\n",
    "\n",
    "print(set(list))\n"
   ]
  },
  {
   "cell_type": "code",
   "execution_count": null,
   "id": "d2498e10-e08a-45a7-8124-3b66f8a288f5",
   "metadata": {},
   "outputs": [],
   "source": [
    "7. Sort a list of numbers in ascending order."
   ]
  },
  {
   "cell_type": "code",
   "execution_count": 19,
   "id": "5e385836-8c80-4ba5-9a97-ece248f819bb",
   "metadata": {},
   "outputs": [
    {
     "name": "stdin",
     "output_type": "stream",
     "text": [
      "Enter the number  45\n"
     ]
    },
    {
     "data": {
      "text/plain": [
       "2025"
      ]
     },
     "execution_count": 19,
     "metadata": {},
     "output_type": "execute_result"
    }
   ],
   "source": [
    "# 8. Find the square of a number.\n",
    "def findsq(num):\n",
    "    square = num * num\n",
    "    return square\n",
    "num = int(input(\"Enter the number \"))\n",
    "findsq(num)\n",
    "    \n"
   ]
  },
  {
   "cell_type": "code",
   "execution_count": 22,
   "id": "b4481a04-fa17-4e7e-bfee-7738c1dd4802",
   "metadata": {},
   "outputs": [
    {
     "name": "stdin",
     "output_type": "stream",
     "text": [
      "Enter the number  45\n"
     ]
    },
    {
     "data": {
      "text/plain": [
       "6.708203932499369"
      ]
     },
     "execution_count": 22,
     "metadata": {},
     "output_type": "execute_result"
    }
   ],
   "source": [
    "# 8. Find the square root of a number.\n",
    "def findsqroot(num):\n",
    "    squareroot = num ** 0.5\n",
    "    return squareroot\n",
    "\n",
    "num = int(input(\"Enter the number \"))\n",
    "findsqroot(num)\n",
    "    \n"
   ]
  },
  {
   "cell_type": "code",
   "execution_count": 26,
   "id": "0c6ca295-b980-4792-8c6a-20eec34501a3",
   "metadata": {},
   "outputs": [
    {
     "ename": "SyntaxError",
     "evalue": "incomplete input (807557024.py, line 7)",
     "output_type": "error",
     "traceback": [
      "\u001b[1;36m  Cell \u001b[1;32mIn[26], line 7\u001b[1;36m\u001b[0m\n\u001b[1;33m    \u001b[0m\n\u001b[1;37m    ^\u001b[0m\n\u001b[1;31mSyntaxError\u001b[0m\u001b[1;31m:\u001b[0m incomplete input\n"
     ]
    }
   ],
   "source": [
    "# 9. Check if a number is prime.\n",
    "\n",
    "def primenumber(z):\n",
    "    if z % 2 != 0:\n",
    "        print('This number is not a orime number \")\n",
    "        \n",
    "\n",
    "\n"
   ]
  },
  {
   "cell_type": "code",
   "execution_count": 27,
   "id": "4df96ed1-88b8-4e5d-b02e-9017d79f192b",
   "metadata": {},
   "outputs": [
    {
     "name": "stdin",
     "output_type": "stream",
     "text": [
      "Enter first string :  rishasbh\n",
      "Enter second string :  vaibahv\n"
     ]
    },
    {
     "name": "stdout",
     "output_type": "stream",
     "text": [
      "rishasbhvaibahv\n"
     ]
    }
   ],
   "source": [
    "# 10. Concatenate two strings.\n",
    "def concatenate(a,b):\n",
    "    z = a + b \n",
    "    print(z)\n",
    "\n",
    "a = input(\"Enter first string : \")\n",
    "b = input(\"Enter second string : \")\n",
    "concatenate(a,b)\n",
    "\n",
    "\n",
    "# dont check \n",
    "\n"
   ]
  },
  {
   "cell_type": "code",
   "execution_count": 30,
   "id": "590da1e3-7eff-451f-9c2c-904beaf02329",
   "metadata": {},
   "outputs": [
    {
     "name": "stdin",
     "output_type": "stream",
     "text": [
      "enter any str:  Rv\n"
     ]
    },
    {
     "data": {
      "text/plain": [
       "'rv'"
      ]
     },
     "execution_count": 30,
     "metadata": {},
     "output_type": "execute_result"
    }
   ],
   "source": [
    "# 11. Convert a string to lowercase.\n",
    "\n",
    "def lowercase(a):\n",
    "    a = a.lower()\n",
    "    return a\n",
    "\n",
    "a = input(\"enter any str: \")\n",
    "\n",
    "lowercase(a)\n"
   ]
  },
  {
   "cell_type": "code",
   "execution_count": null,
   "id": "54c7a462-9e05-4529-8406-a10269c8d9da",
   "metadata": {},
   "outputs": [],
   "source": [
    "# 12. Replace all occurrences of a character in a string.\n",
    "def replace_occurrences(any_string):\n",
    "    \n",
    "\n"
   ]
  },
  {
   "cell_type": "code",
   "execution_count": null,
   "id": "9400ff68-c1c8-4300-a6f3-a29b0f617d5d",
   "metadata": {},
   "outputs": [],
   "source": [
    "13. Generate a list of all prime numbers up to a given limit.\n"
   ]
  },
  {
   "cell_type": "code",
   "execution_count": 29,
   "id": "0ab358bd-ad74-4ea8-9b94-c852082a2e3e",
   "metadata": {},
   "outputs": [
    {
     "name": "stdout",
     "output_type": "stream",
     "text": [
      "55\n"
     ]
    }
   ],
   "source": [
    "# 14. Calculate the sum of all elements in a list.\n",
    "list1 = [1,2,3,4,5,6,7,8,9,10]\n",
    "total = 0\n",
    "for i in range(0,len(list1)):\n",
    "    total = total + list1[i]\n",
    "print(total)"
   ]
  },
  {
   "cell_type": "code",
   "execution_count": 35,
   "id": "583b1de8-3977-43ce-91ba-ce6a0c45f776",
   "metadata": {},
   "outputs": [
    {
     "name": "stdout",
     "output_type": "stream",
     "text": [
      "hR\n",
      "R\n"
     ]
    },
    {
     "ename": "AttributeError",
     "evalue": "'str' object has no attribute 'append'",
     "output_type": "error",
     "traceback": [
      "\u001b[1;31m---------------------------------------------------------------------------\u001b[0m",
      "\u001b[1;31mAttributeError\u001b[0m                            Traceback (most recent call last)",
      "Cell \u001b[1;32mIn[35], line 9\u001b[0m\n\u001b[0;32m      7\u001b[0m \u001b[38;5;28;01mfor\u001b[39;00m i \u001b[38;5;129;01min\u001b[39;00m \u001b[38;5;28mstr\u001b[39m:\n\u001b[0;32m      8\u001b[0m     \u001b[38;5;28mprint\u001b[39m(i)\n\u001b[1;32m----> 9\u001b[0m     \u001b[43mi\u001b[49m\u001b[38;5;241;43m.\u001b[39;49m\u001b[43mappend\u001b[49m(list1)\n\u001b[0;32m     10\u001b[0m \u001b[38;5;28mprint\u001b[39m(list1)\n",
      "\u001b[1;31mAttributeError\u001b[0m: 'str' object has no attribute 'append'"
     ]
    }
   ],
   "source": [
    "# Find the length of a string.\n",
    "\n",
    "str = \"Rishabh\"\n",
    "list1 = []\n",
    "length = str[-1] + str[0]\n",
    "print(length)\n",
    "for i in str:\n",
    "    print(i)\n",
    "    li\n",
    "print(list1)"
   ]
  },
  {
   "cell_type": "code",
   "execution_count": null,
   "id": "95814ece-f427-4c4d-b6a6-5041ad25b475",
   "metadata": {},
   "outputs": [],
   "source": [
    "str"
   ]
  },
  {
   "cell_type": "code",
   "execution_count": null,
   "id": "e7ba39f3-3688-431f-983e-ff6b611b68bc",
   "metadata": {},
   "outputs": [],
   "source": []
  },
  {
   "cell_type": "code",
   "execution_count": null,
   "id": "17e0f8fa-e365-40c7-9116-7ff57b843996",
   "metadata": {},
   "outputs": [],
   "source": []
  },
  {
   "cell_type": "code",
   "execution_count": null,
   "id": "fde184c7-a079-4e33-919a-d799df3b2629",
   "metadata": {},
   "outputs": [],
   "source": []
  },
  {
   "cell_type": "code",
   "execution_count": null,
   "id": "e2dd79a1-f6cd-4a9d-a444-b4e0b1577407",
   "metadata": {},
   "outputs": [],
   "source": []
  },
  {
   "cell_type": "code",
   "execution_count": 30,
   "id": "2edc7bc2-438c-4c4f-abb1-ad8f16bbe1ac",
   "metadata": {},
   "outputs": [],
   "source": [
    "# 20. Calculate the area of a rectangle.\n"
   ]
  },
  {
   "cell_type": "code",
   "execution_count": null,
   "id": "56b8f5f5-221b-4341-ba30-b75f69fa5fe5",
   "metadata": {},
   "outputs": [],
   "source": []
  },
  {
   "cell_type": "code",
   "execution_count": null,
   "id": "5e2c3816-7f91-42b6-93c3-4d03840ca3d2",
   "metadata": {},
   "outputs": [],
   "source": []
  },
  {
   "cell_type": "code",
   "execution_count": null,
   "id": "9c27c899-74dc-4b01-941e-a8d105cb5428",
   "metadata": {},
   "outputs": [],
   "source": []
  },
  {
   "cell_type": "code",
   "execution_count": null,
   "id": "54438642-84bf-4410-95e0-9ee0aaeac5a4",
   "metadata": {},
   "outputs": [],
   "source": []
  },
  {
   "cell_type": "code",
   "execution_count": null,
   "id": "540b5355-7b57-423f-b835-b903ace71484",
   "metadata": {},
   "outputs": [],
   "source": []
  },
  {
   "cell_type": "code",
   "execution_count": null,
   "id": "e6f8e793-db11-43c8-bcae-1a556cc48c29",
   "metadata": {},
   "outputs": [],
   "source": []
  },
  {
   "cell_type": "code",
   "execution_count": null,
   "id": "b85bb9d9-e6bf-4aa4-bd39-a5d6e13dcd30",
   "metadata": {},
   "outputs": [],
   "source": []
  },
  {
   "cell_type": "code",
   "execution_count": null,
   "id": "06e9c3a6-c444-4acd-a5fa-330318737ad2",
   "metadata": {},
   "outputs": [],
   "source": []
  },
  {
   "cell_type": "code",
   "execution_count": null,
   "id": "fba3dff3-f0c2-4938-a01b-858e3d14367e",
   "metadata": {},
   "outputs": [],
   "source": []
  },
  {
   "cell_type": "code",
   "execution_count": null,
   "id": "3592d4cc-4ba6-491e-b15e-7d5ab00e528c",
   "metadata": {},
   "outputs": [],
   "source": []
  },
  {
   "cell_type": "code",
   "execution_count": null,
   "id": "e1dd0a9d-8f85-4e64-b841-4b175486b373",
   "metadata": {},
   "outputs": [],
   "source": []
  },
  {
   "cell_type": "code",
   "execution_count": null,
   "id": "613f8975-7635-48b4-ba80-3c5d526364f5",
   "metadata": {},
   "outputs": [],
   "source": []
  },
  {
   "cell_type": "code",
   "execution_count": null,
   "id": "c30dd5ad-dee6-4145-86a8-5d310011c67a",
   "metadata": {},
   "outputs": [],
   "source": []
  },
  {
   "cell_type": "code",
   "execution_count": null,
   "id": "2f513a8b-1299-4a99-9e92-1a742f9c4035",
   "metadata": {},
   "outputs": [],
   "source": []
  }
 ],
 "metadata": {
  "kernelspec": {
   "display_name": "Python 3 (ipykernel)",
   "language": "python",
   "name": "python3"
  },
  "language_info": {
   "codemirror_mode": {
    "name": "ipython",
    "version": 3
   },
   "file_extension": ".py",
   "mimetype": "text/x-python",
   "name": "python",
   "nbconvert_exporter": "python",
   "pygments_lexer": "ipython3",
   "version": "3.11.4"
  }
 },
 "nbformat": 4,
 "nbformat_minor": 5
}
